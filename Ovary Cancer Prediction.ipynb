{
 "cells": [
  {
   "cell_type": "code",
   "execution_count": 1,
   "metadata": {},
   "outputs": [],
   "source": [
    "import pandas as pd\n",
    "import numpy as np\n",
    "import seaborn as sns\n",
    "import matplotlib.pyplot as plt\n",
    "%matplotlib inline"
   ]
  },
  {
   "cell_type": "code",
   "execution_count": 2,
   "metadata": {},
   "outputs": [],
   "source": [
    "#Reading training data \n",
    "data=pd.read_excel(r\"C:\\Users\\md mejbah uddin\\Downloads\\Ovarian xlsx data\\Supplementary data 4.xlsx\")"
   ]
  },
  {
   "cell_type": "code",
   "execution_count": 3,
   "metadata": {},
   "outputs": [],
   "source": [
    "#Reading testing_data \n",
    "data2=pd.read_excel(r\"C:\\Users\\md mejbah uddin\\Downloads\\Ovarian xlsx data\\Supplementary data 5.xlsx\")"
   ]
  },
  {
   "cell_type": "code",
   "execution_count": 4,
   "metadata": {},
   "outputs": [
    {
     "data": {
      "text/html": [
       "<div>\n",
       "<style scoped>\n",
       "    .dataframe tbody tr th:only-of-type {\n",
       "        vertical-align: middle;\n",
       "    }\n",
       "\n",
       "    .dataframe tbody tr th {\n",
       "        vertical-align: top;\n",
       "    }\n",
       "\n",
       "    .dataframe thead th {\n",
       "        text-align: right;\n",
       "    }\n",
       "</style>\n",
       "<table border=\"1\" class=\"dataframe\">\n",
       "  <thead>\n",
       "    <tr style=\"text-align: right;\">\n",
       "      <th></th>\n",
       "      <th>TYPE</th>\n",
       "      <th>MPV</th>\n",
       "      <th>BASO#</th>\n",
       "      <th>PHOS</th>\n",
       "      <th>GLU.</th>\n",
       "      <th>K</th>\n",
       "      <th>AST</th>\n",
       "      <th>BASO%</th>\n",
       "      <th>Mg</th>\n",
       "      <th>Menopause</th>\n",
       "      <th>...</th>\n",
       "      <th>TP</th>\n",
       "      <th>UA</th>\n",
       "      <th>RBC</th>\n",
       "      <th>PCT</th>\n",
       "      <th>CO2CP</th>\n",
       "      <th>TBIL</th>\n",
       "      <th>HCT</th>\n",
       "      <th>MONO%</th>\n",
       "      <th>MCV</th>\n",
       "      <th>ALP</th>\n",
       "    </tr>\n",
       "  </thead>\n",
       "  <tbody>\n",
       "    <tr>\n",
       "      <th>0</th>\n",
       "      <td>0</td>\n",
       "      <td>11.70</td>\n",
       "      <td>0.01</td>\n",
       "      <td>1.46</td>\n",
       "      <td>4.67</td>\n",
       "      <td>5.36</td>\n",
       "      <td>24.0</td>\n",
       "      <td>0.30</td>\n",
       "      <td>0.78</td>\n",
       "      <td>0</td>\n",
       "      <td>...</td>\n",
       "      <td>73.9</td>\n",
       "      <td>396.4</td>\n",
       "      <td>2.64</td>\n",
       "      <td>0.09</td>\n",
       "      <td>19.9</td>\n",
       "      <td>5.5</td>\n",
       "      <td>0.273</td>\n",
       "      <td>5.70</td>\n",
       "      <td>103.4</td>\n",
       "      <td>56.0</td>\n",
       "    </tr>\n",
       "    <tr>\n",
       "      <th>1</th>\n",
       "      <td>0</td>\n",
       "      <td>10.00</td>\n",
       "      <td>0.02</td>\n",
       "      <td>1.09</td>\n",
       "      <td>10.50</td>\n",
       "      <td>4.38</td>\n",
       "      <td>13.0</td>\n",
       "      <td>0.30</td>\n",
       "      <td>0.82</td>\n",
       "      <td>1</td>\n",
       "      <td>...</td>\n",
       "      <td>72.0</td>\n",
       "      <td>119.2</td>\n",
       "      <td>4.89</td>\n",
       "      <td>0.30</td>\n",
       "      <td>22.3</td>\n",
       "      <td>6.8</td>\n",
       "      <td>0.417</td>\n",
       "      <td>5.50</td>\n",
       "      <td>85.3</td>\n",
       "      <td>95.0</td>\n",
       "    </tr>\n",
       "    <tr>\n",
       "      <th>2</th>\n",
       "      <td>0</td>\n",
       "      <td>11.40</td>\n",
       "      <td>0.03</td>\n",
       "      <td>0.97</td>\n",
       "      <td>4.64</td>\n",
       "      <td>4.30</td>\n",
       "      <td>18.0</td>\n",
       "      <td>0.60</td>\n",
       "      <td>1.00</td>\n",
       "      <td>0</td>\n",
       "      <td>...</td>\n",
       "      <td>77.9</td>\n",
       "      <td>209.2</td>\n",
       "      <td>4.62</td>\n",
       "      <td>0.13</td>\n",
       "      <td>22.2</td>\n",
       "      <td>14.8</td>\n",
       "      <td>0.391</td>\n",
       "      <td>5.40</td>\n",
       "      <td>84.6</td>\n",
       "      <td>77.0</td>\n",
       "    </tr>\n",
       "    <tr>\n",
       "      <th>3</th>\n",
       "      <td>0</td>\n",
       "      <td>7.38</td>\n",
       "      <td>0.05</td>\n",
       "      <td>1.25</td>\n",
       "      <td>4.76</td>\n",
       "      <td>4.70</td>\n",
       "      <td>17.0</td>\n",
       "      <td>0.74</td>\n",
       "      <td>1.11</td>\n",
       "      <td>1</td>\n",
       "      <td>...</td>\n",
       "      <td>66.1</td>\n",
       "      <td>215.6</td>\n",
       "      <td>4.01</td>\n",
       "      <td>0.25</td>\n",
       "      <td>24.0</td>\n",
       "      <td>10.9</td>\n",
       "      <td>0.372</td>\n",
       "      <td>6.55</td>\n",
       "      <td>92.6</td>\n",
       "      <td>26.0</td>\n",
       "    </tr>\n",
       "    <tr>\n",
       "      <th>4</th>\n",
       "      <td>0</td>\n",
       "      <td>10.40</td>\n",
       "      <td>0.01</td>\n",
       "      <td>0.94</td>\n",
       "      <td>4.07</td>\n",
       "      <td>4.77</td>\n",
       "      <td>27.0</td>\n",
       "      <td>0.10</td>\n",
       "      <td>1.08</td>\n",
       "      <td>0</td>\n",
       "      <td>...</td>\n",
       "      <td>66.5</td>\n",
       "      <td>206.0</td>\n",
       "      <td>4.40</td>\n",
       "      <td>0.28</td>\n",
       "      <td>26.2</td>\n",
       "      <td>5.3</td>\n",
       "      <td>0.383</td>\n",
       "      <td>10.00</td>\n",
       "      <td>87.0</td>\n",
       "      <td>47.0</td>\n",
       "    </tr>\n",
       "  </tbody>\n",
       "</table>\n",
       "<p>5 rows × 49 columns</p>\n",
       "</div>"
      ],
      "text/plain": [
       "   TYPE    MPV  BASO#  PHOS   GLU.     K   AST  BASO%    Mg  Menopause  ...  \\\n",
       "0     0  11.70   0.01  1.46   4.67  5.36  24.0   0.30  0.78          0  ...   \n",
       "1     0  10.00   0.02  1.09  10.50  4.38  13.0   0.30  0.82          1  ...   \n",
       "2     0  11.40   0.03  0.97   4.64  4.30  18.0   0.60  1.00          0  ...   \n",
       "3     0   7.38   0.05  1.25   4.76  4.70  17.0   0.74  1.11          1  ...   \n",
       "4     0  10.40   0.01  0.94   4.07  4.77  27.0   0.10  1.08          0  ...   \n",
       "\n",
       "     TP     UA   RBC   PCT  CO2CP  TBIL    HCT  MONO%    MCV   ALP  \n",
       "0  73.9  396.4  2.64  0.09   19.9   5.5  0.273   5.70  103.4  56.0  \n",
       "1  72.0  119.2  4.89  0.30   22.3   6.8  0.417   5.50   85.3  95.0  \n",
       "2  77.9  209.2  4.62  0.13   22.2  14.8  0.391   5.40   84.6  77.0  \n",
       "3  66.1  215.6  4.01  0.25   24.0  10.9  0.372   6.55   92.6  26.0  \n",
       "4  66.5  206.0  4.40  0.28   26.2   5.3  0.383  10.00   87.0  47.0  \n",
       "\n",
       "[5 rows x 49 columns]"
      ]
     },
     "execution_count": 4,
     "metadata": {},
     "output_type": "execute_result"
    }
   ],
   "source": [
    "data.head()"
   ]
  },
  {
   "cell_type": "code",
   "execution_count": 5,
   "metadata": {},
   "outputs": [
    {
     "data": {
      "text/html": [
       "<div>\n",
       "<style scoped>\n",
       "    .dataframe tbody tr th:only-of-type {\n",
       "        vertical-align: middle;\n",
       "    }\n",
       "\n",
       "    .dataframe tbody tr th {\n",
       "        vertical-align: top;\n",
       "    }\n",
       "\n",
       "    .dataframe thead th {\n",
       "        text-align: right;\n",
       "    }\n",
       "</style>\n",
       "<table border=\"1\" class=\"dataframe\">\n",
       "  <thead>\n",
       "    <tr style=\"text-align: right;\">\n",
       "      <th></th>\n",
       "      <th>SUBJECT_ID</th>\n",
       "      <th>AFP</th>\n",
       "      <th>AG</th>\n",
       "      <th>Age</th>\n",
       "      <th>ALB</th>\n",
       "      <th>ALP</th>\n",
       "      <th>ALT</th>\n",
       "      <th>AST</th>\n",
       "      <th>BASO#</th>\n",
       "      <th>BASO%</th>\n",
       "      <th>...</th>\n",
       "      <th>NEU</th>\n",
       "      <th>PCT</th>\n",
       "      <th>PDW</th>\n",
       "      <th>PHOS</th>\n",
       "      <th>PLT</th>\n",
       "      <th>RBC</th>\n",
       "      <th>RDW</th>\n",
       "      <th>TBIL</th>\n",
       "      <th>TP</th>\n",
       "      <th>UA</th>\n",
       "    </tr>\n",
       "  </thead>\n",
       "  <tbody>\n",
       "    <tr>\n",
       "      <th>0</th>\n",
       "      <td>301</td>\n",
       "      <td>2.26</td>\n",
       "      <td>23.00</td>\n",
       "      <td>56</td>\n",
       "      <td>35.1</td>\n",
       "      <td>105.0</td>\n",
       "      <td>12.0</td>\n",
       "      <td>20.0</td>\n",
       "      <td>0.04</td>\n",
       "      <td>0.4</td>\n",
       "      <td>...</td>\n",
       "      <td>75.7</td>\n",
       "      <td>0.62</td>\n",
       "      <td>9.8</td>\n",
       "      <td>1.40</td>\n",
       "      <td>652</td>\n",
       "      <td>4.88</td>\n",
       "      <td>13.2</td>\n",
       "      <td>9.5</td>\n",
       "      <td>73.8</td>\n",
       "      <td>350.3</td>\n",
       "    </tr>\n",
       "    <tr>\n",
       "      <th>1</th>\n",
       "      <td>302</td>\n",
       "      <td>3.11</td>\n",
       "      <td>12.00</td>\n",
       "      <td>72</td>\n",
       "      <td>44.8</td>\n",
       "      <td>128.0</td>\n",
       "      <td>13.0</td>\n",
       "      <td>24.0</td>\n",
       "      <td>0.00</td>\n",
       "      <td>0.0</td>\n",
       "      <td>...</td>\n",
       "      <td>87.8</td>\n",
       "      <td>0.16</td>\n",
       "      <td>11.9</td>\n",
       "      <td>1.41</td>\n",
       "      <td>155</td>\n",
       "      <td>4.41</td>\n",
       "      <td>12.2</td>\n",
       "      <td>21.7</td>\n",
       "      <td>72.2</td>\n",
       "      <td>283.8</td>\n",
       "    </tr>\n",
       "    <tr>\n",
       "      <th>2</th>\n",
       "      <td>303</td>\n",
       "      <td>5.02</td>\n",
       "      <td>17.05</td>\n",
       "      <td>57</td>\n",
       "      <td>41.1</td>\n",
       "      <td>89.0</td>\n",
       "      <td>18.0</td>\n",
       "      <td>22.0</td>\n",
       "      <td>0.01</td>\n",
       "      <td>0.3</td>\n",
       "      <td>...</td>\n",
       "      <td>61.1</td>\n",
       "      <td>0.15</td>\n",
       "      <td>11.3</td>\n",
       "      <td>1.19</td>\n",
       "      <td>144</td>\n",
       "      <td>4.64</td>\n",
       "      <td>12.3</td>\n",
       "      <td>15.0</td>\n",
       "      <td>71.4</td>\n",
       "      <td>301.3</td>\n",
       "    </tr>\n",
       "    <tr>\n",
       "      <th>3</th>\n",
       "      <td>304</td>\n",
       "      <td>1.63</td>\n",
       "      <td>16.26</td>\n",
       "      <td>43</td>\n",
       "      <td>35.2</td>\n",
       "      <td>68.0</td>\n",
       "      <td>5.0</td>\n",
       "      <td>13.0</td>\n",
       "      <td>0.00</td>\n",
       "      <td>0.0</td>\n",
       "      <td>...</td>\n",
       "      <td>84.2</td>\n",
       "      <td>0.26</td>\n",
       "      <td>12.8</td>\n",
       "      <td>0.99</td>\n",
       "      <td>230</td>\n",
       "      <td>3.67</td>\n",
       "      <td>14.1</td>\n",
       "      <td>9.9</td>\n",
       "      <td>59.0</td>\n",
       "      <td>176.5</td>\n",
       "    </tr>\n",
       "    <tr>\n",
       "      <th>4</th>\n",
       "      <td>305</td>\n",
       "      <td>4.76</td>\n",
       "      <td>12.60</td>\n",
       "      <td>65</td>\n",
       "      <td>40.2</td>\n",
       "      <td>81.0</td>\n",
       "      <td>6.0</td>\n",
       "      <td>14.0</td>\n",
       "      <td>0.04</td>\n",
       "      <td>0.5</td>\n",
       "      <td>...</td>\n",
       "      <td>70.6</td>\n",
       "      <td>0.36</td>\n",
       "      <td>10.7</td>\n",
       "      <td>0.78</td>\n",
       "      <td>375</td>\n",
       "      <td>4.08</td>\n",
       "      <td>12.5</td>\n",
       "      <td>8.2</td>\n",
       "      <td>70.6</td>\n",
       "      <td>308.6</td>\n",
       "    </tr>\n",
       "  </tbody>\n",
       "</table>\n",
       "<p>5 rows × 51 columns</p>\n",
       "</div>"
      ],
      "text/plain": [
       "   SUBJECT_ID   AFP     AG  Age   ALB    ALP   ALT   AST  BASO#  BASO%  ...  \\\n",
       "0         301  2.26  23.00   56  35.1  105.0  12.0  20.0   0.04    0.4  ...   \n",
       "1         302  3.11  12.00   72  44.8  128.0  13.0  24.0   0.00    0.0  ...   \n",
       "2         303  5.02  17.05   57  41.1   89.0  18.0  22.0   0.01    0.3  ...   \n",
       "3         304  1.63  16.26   43  35.2   68.0   5.0  13.0   0.00    0.0  ...   \n",
       "4         305  4.76  12.60   65  40.2   81.0   6.0  14.0   0.04    0.5  ...   \n",
       "\n",
       "    NEU   PCT   PDW  PHOS  PLT   RBC   RDW  TBIL    TP     UA  \n",
       "0  75.7  0.62   9.8  1.40  652  4.88  13.2   9.5  73.8  350.3  \n",
       "1  87.8  0.16  11.9  1.41  155  4.41  12.2  21.7  72.2  283.8  \n",
       "2  61.1  0.15  11.3  1.19  144  4.64  12.3  15.0  71.4  301.3  \n",
       "3  84.2  0.26  12.8  0.99  230  3.67  14.1   9.9  59.0  176.5  \n",
       "4  70.6  0.36  10.7  0.78  375  4.08  12.5   8.2  70.6  308.6  \n",
       "\n",
       "[5 rows x 51 columns]"
      ]
     },
     "execution_count": 5,
     "metadata": {},
     "output_type": "execute_result"
    }
   ],
   "source": [
    "data2.head()"
   ]
  },
  {
   "cell_type": "code",
   "execution_count": 6,
   "metadata": {},
   "outputs": [
    {
     "data": {
      "text/plain": [
       "Index(['TYPE', 'MPV', 'BASO#', 'PHOS', 'GLU.', 'K', 'AST', 'BASO%', 'Mg',\n",
       "       'Menopause', 'CL', 'CEA', 'EO#', 'CA19-9', 'ALB', 'IBIL', 'GGT', 'MCH',\n",
       "       'GLO', 'ALT', 'DBIL', 'Age', 'RDW', 'PDW', 'CREA', 'AFP', 'HGB', 'Na',\n",
       "       'HE4', 'LYM#', 'CA125', 'BUN', 'LYM%', 'Ca', 'AG', 'MONO#', 'PLT',\n",
       "       'NEU', 'EO%', 'TP', 'UA', 'RBC', 'PCT', 'CO2CP', 'TBIL', 'HCT', 'MONO%',\n",
       "       'MCV', 'ALP'],\n",
       "      dtype='object')"
      ]
     },
     "execution_count": 6,
     "metadata": {},
     "output_type": "execute_result"
    }
   ],
   "source": [
    "data.columns"
   ]
  },
  {
   "cell_type": "code",
   "execution_count": 7,
   "metadata": {},
   "outputs": [
    {
     "data": {
      "text/plain": [
       "(235, 49)"
      ]
     },
     "execution_count": 7,
     "metadata": {},
     "output_type": "execute_result"
    }
   ],
   "source": [
    "data.shape"
   ]
  },
  {
   "cell_type": "code",
   "execution_count": 8,
   "metadata": {},
   "outputs": [
    {
     "data": {
      "text/plain": [
       "(114, 51)"
      ]
     },
     "execution_count": 8,
     "metadata": {},
     "output_type": "execute_result"
    }
   ],
   "source": [
    "data2.shape"
   ]
  },
  {
   "cell_type": "code",
   "execution_count": 9,
   "metadata": {},
   "outputs": [
    {
     "data": {
      "text/plain": [
       "TYPE         0\n",
       "MPV          0\n",
       "BASO#        0\n",
       "PHOS         0\n",
       "GLU.         0\n",
       "K            0\n",
       "AST          0\n",
       "BASO%        0\n",
       "Mg           0\n",
       "Menopause    0\n",
       "CL           0\n",
       "CEA          0\n",
       "EO#          0\n",
       "CA19-9       0\n",
       "ALB          0\n",
       "IBIL         0\n",
       "GGT          0\n",
       "MCH          0\n",
       "GLO          0\n",
       "ALT          0\n",
       "DBIL         0\n",
       "Age          0\n",
       "RDW          0\n",
       "PDW          0\n",
       "CREA         0\n",
       "AFP          0\n",
       "HGB          0\n",
       "Na           0\n",
       "HE4          0\n",
       "LYM#         0\n",
       "CA125        0\n",
       "BUN          0\n",
       "LYM%         0\n",
       "Ca           0\n",
       "AG           0\n",
       "MONO#        0\n",
       "PLT          0\n",
       "NEU          0\n",
       "EO%          0\n",
       "TP           0\n",
       "UA           0\n",
       "RBC          0\n",
       "PCT          0\n",
       "CO2CP        0\n",
       "TBIL         0\n",
       "HCT          0\n",
       "MONO%        0\n",
       "MCV          0\n",
       "ALP          0\n",
       "dtype: int64"
      ]
     },
     "execution_count": 9,
     "metadata": {},
     "output_type": "execute_result"
    }
   ],
   "source": [
    "data.isnull().sum()"
   ]
  },
  {
   "cell_type": "code",
   "execution_count": null,
   "metadata": {},
   "outputs": [],
   "source": []
  },
  {
   "cell_type": "code",
   "execution_count": 10,
   "metadata": {},
   "outputs": [
    {
     "name": "stderr",
     "output_type": "stream",
     "text": [
      "2021-03-30 14:02:37,224 - INFO     - NumExpr defaulting to 4 threads.\n"
     ]
    },
    {
     "data": {
      "text/html": [
       "\n",
       "        <iframe\n",
       "            width=\"100%\"\n",
       "            height=\"475\"\n",
       "            src=\"http://DESKTOP-N1VN3AP:40000/dtale/iframe/1\"\n",
       "            frameborder=\"0\"\n",
       "            allowfullscreen\n",
       "        ></iframe>\n",
       "        "
      ],
      "text/plain": [
       "<IPython.lib.display.IFrame at 0x24e79a48820>"
      ]
     },
     "metadata": {},
     "output_type": "display_data"
    },
    {
     "data": {
      "text/plain": []
     },
     "execution_count": 10,
     "metadata": {},
     "output_type": "execute_result"
    }
   ],
   "source": [
    "#For exploratory data analysis using dtale\n",
    "import dtale\n",
    "dtale.show(data)"
   ]
  },
  {
   "cell_type": "code",
   "execution_count": null,
   "metadata": {},
   "outputs": [],
   "source": []
  },
  {
   "cell_type": "code",
   "execution_count": 11,
   "metadata": {},
   "outputs": [],
   "source": [
    "#Feature selection based on domian knowledge\n",
    "training_data=data[['TYPE',\"Age\",'CEA','CA125','CA19-9','HE4','CREA',\"ALT\"]]"
   ]
  },
  {
   "cell_type": "code",
   "execution_count": 12,
   "metadata": {},
   "outputs": [],
   "source": [
    "testing_data=data2[['TYPE',\"Age\",'CEA','CA125','CA19-9','HE4','CREA',\"ALT\"]]"
   ]
  },
  {
   "cell_type": "code",
   "execution_count": 13,
   "metadata": {},
   "outputs": [
    {
     "data": {
      "text/html": [
       "<div>\n",
       "<style scoped>\n",
       "    .dataframe tbody tr th:only-of-type {\n",
       "        vertical-align: middle;\n",
       "    }\n",
       "\n",
       "    .dataframe tbody tr th {\n",
       "        vertical-align: top;\n",
       "    }\n",
       "\n",
       "    .dataframe thead th {\n",
       "        text-align: right;\n",
       "    }\n",
       "</style>\n",
       "<table border=\"1\" class=\"dataframe\">\n",
       "  <thead>\n",
       "    <tr style=\"text-align: right;\">\n",
       "      <th></th>\n",
       "      <th>TYPE</th>\n",
       "      <th>Age</th>\n",
       "      <th>CEA</th>\n",
       "      <th>CA125</th>\n",
       "      <th>CA19-9</th>\n",
       "      <th>HE4</th>\n",
       "      <th>CREA</th>\n",
       "      <th>ALT</th>\n",
       "    </tr>\n",
       "  </thead>\n",
       "  <tbody>\n",
       "    <tr>\n",
       "      <th>0</th>\n",
       "      <td>0</td>\n",
       "      <td>47</td>\n",
       "      <td>1.40</td>\n",
       "      <td>15.36</td>\n",
       "      <td>36.48</td>\n",
       "      <td>208.552698</td>\n",
       "      <td>103.0</td>\n",
       "      <td>11.0</td>\n",
       "    </tr>\n",
       "    <tr>\n",
       "      <th>1</th>\n",
       "      <td>0</td>\n",
       "      <td>61</td>\n",
       "      <td>2.46</td>\n",
       "      <td>2444.00</td>\n",
       "      <td>19.98</td>\n",
       "      <td>934.100000</td>\n",
       "      <td>45.0</td>\n",
       "      <td>9.0</td>\n",
       "    </tr>\n",
       "    <tr>\n",
       "      <th>2</th>\n",
       "      <td>0</td>\n",
       "      <td>39</td>\n",
       "      <td>0.77</td>\n",
       "      <td>56.08</td>\n",
       "      <td>12.18</td>\n",
       "      <td>47.560000</td>\n",
       "      <td>48.0</td>\n",
       "      <td>9.0</td>\n",
       "    </tr>\n",
       "    <tr>\n",
       "      <th>3</th>\n",
       "      <td>0</td>\n",
       "      <td>45</td>\n",
       "      <td>0.82</td>\n",
       "      <td>2555.00</td>\n",
       "      <td>18.41</td>\n",
       "      <td>853.500000</td>\n",
       "      <td>65.7</td>\n",
       "      <td>16.0</td>\n",
       "    </tr>\n",
       "    <tr>\n",
       "      <th>4</th>\n",
       "      <td>0</td>\n",
       "      <td>45</td>\n",
       "      <td>0.42</td>\n",
       "      <td>1391.00</td>\n",
       "      <td>11.15</td>\n",
       "      <td>404.900000</td>\n",
       "      <td>70.3</td>\n",
       "      <td>21.0</td>\n",
       "    </tr>\n",
       "  </tbody>\n",
       "</table>\n",
       "</div>"
      ],
      "text/plain": [
       "   TYPE  Age   CEA    CA125  CA19-9         HE4   CREA   ALT\n",
       "0     0   47  1.40    15.36   36.48  208.552698  103.0  11.0\n",
       "1     0   61  2.46  2444.00   19.98  934.100000   45.0   9.0\n",
       "2     0   39  0.77    56.08   12.18   47.560000   48.0   9.0\n",
       "3     0   45  0.82  2555.00   18.41  853.500000   65.7  16.0\n",
       "4     0   45  0.42  1391.00   11.15  404.900000   70.3  21.0"
      ]
     },
     "execution_count": 13,
     "metadata": {},
     "output_type": "execute_result"
    }
   ],
   "source": [
    "training_data.head()"
   ]
  },
  {
   "cell_type": "code",
   "execution_count": 14,
   "metadata": {},
   "outputs": [
    {
     "data": {
      "text/html": [
       "<div>\n",
       "<style scoped>\n",
       "    .dataframe tbody tr th:only-of-type {\n",
       "        vertical-align: middle;\n",
       "    }\n",
       "\n",
       "    .dataframe tbody tr th {\n",
       "        vertical-align: top;\n",
       "    }\n",
       "\n",
       "    .dataframe thead th {\n",
       "        text-align: right;\n",
       "    }\n",
       "</style>\n",
       "<table border=\"1\" class=\"dataframe\">\n",
       "  <thead>\n",
       "    <tr style=\"text-align: right;\">\n",
       "      <th></th>\n",
       "      <th>TYPE</th>\n",
       "      <th>Age</th>\n",
       "      <th>CEA</th>\n",
       "      <th>CA125</th>\n",
       "      <th>CA19-9</th>\n",
       "      <th>HE4</th>\n",
       "      <th>CREA</th>\n",
       "      <th>ALT</th>\n",
       "    </tr>\n",
       "  </thead>\n",
       "  <tbody>\n",
       "    <tr>\n",
       "      <th>0</th>\n",
       "      <td>0</td>\n",
       "      <td>56</td>\n",
       "      <td>0.58</td>\n",
       "      <td>1319.00</td>\n",
       "      <td>4.83</td>\n",
       "      <td>1500.0</td>\n",
       "      <td>69</td>\n",
       "      <td>12.0</td>\n",
       "    </tr>\n",
       "    <tr>\n",
       "      <th>1</th>\n",
       "      <td>0</td>\n",
       "      <td>72</td>\n",
       "      <td>3.77</td>\n",
       "      <td>105.40</td>\n",
       "      <td>33.37</td>\n",
       "      <td>103.7</td>\n",
       "      <td>76</td>\n",
       "      <td>13.0</td>\n",
       "    </tr>\n",
       "    <tr>\n",
       "      <th>2</th>\n",
       "      <td>0</td>\n",
       "      <td>57</td>\n",
       "      <td>4.57</td>\n",
       "      <td>515.10</td>\n",
       "      <td>17.82</td>\n",
       "      <td>162.9</td>\n",
       "      <td>67</td>\n",
       "      <td>18.0</td>\n",
       "    </tr>\n",
       "    <tr>\n",
       "      <th>3</th>\n",
       "      <td>0</td>\n",
       "      <td>43</td>\n",
       "      <td>1.22</td>\n",
       "      <td>42.17</td>\n",
       "      <td>9.91</td>\n",
       "      <td>145.5</td>\n",
       "      <td>63</td>\n",
       "      <td>5.0</td>\n",
       "    </tr>\n",
       "    <tr>\n",
       "      <th>4</th>\n",
       "      <td>0</td>\n",
       "      <td>65</td>\n",
       "      <td>2.13</td>\n",
       "      <td>1065.00</td>\n",
       "      <td>&gt;1000</td>\n",
       "      <td>269.5</td>\n",
       "      <td>66</td>\n",
       "      <td>6.0</td>\n",
       "    </tr>\n",
       "  </tbody>\n",
       "</table>\n",
       "</div>"
      ],
      "text/plain": [
       "   TYPE  Age   CEA    CA125 CA19-9     HE4  CREA   ALT\n",
       "0     0   56  0.58  1319.00   4.83  1500.0    69  12.0\n",
       "1     0   72  3.77   105.40  33.37   103.7    76  13.0\n",
       "2     0   57  4.57   515.10  17.82   162.9    67  18.0\n",
       "3     0   43  1.22    42.17   9.91   145.5    63   5.0\n",
       "4     0   65  2.13  1065.00  >1000   269.5    66   6.0"
      ]
     },
     "execution_count": 14,
     "metadata": {},
     "output_type": "execute_result"
    }
   ],
   "source": [
    "testing_data.head()"
   ]
  },
  {
   "cell_type": "code",
   "execution_count": 15,
   "metadata": {},
   "outputs": [
    {
     "data": {
      "text/plain": [
       "(235, 8)"
      ]
     },
     "execution_count": 15,
     "metadata": {},
     "output_type": "execute_result"
    }
   ],
   "source": [
    "training_data.shape"
   ]
  },
  {
   "cell_type": "code",
   "execution_count": 16,
   "metadata": {},
   "outputs": [
    {
     "data": {
      "text/plain": [
       "TYPE        int64\n",
       "Age         int64\n",
       "CEA       float64\n",
       "CA125     float64\n",
       "CA19-9    float64\n",
       "HE4       float64\n",
       "CREA      float64\n",
       "ALT       float64\n",
       "dtype: object"
      ]
     },
     "execution_count": 16,
     "metadata": {},
     "output_type": "execute_result"
    }
   ],
   "source": [
    "training_data.dtypes"
   ]
  },
  {
   "cell_type": "code",
   "execution_count": 17,
   "metadata": {},
   "outputs": [
    {
     "data": {
      "text/plain": [
       "<matplotlib.axes._subplots.AxesSubplot at 0x24e79afb220>"
      ]
     },
     "execution_count": 17,
     "metadata": {},
     "output_type": "execute_result"
    },
    {
     "data": {
      "image/png": "[encoded data removed]",
      "text/plain": [
       "<Figure size 432x288 with 1 Axes>"
      ]
     },
     "metadata": {
      "needs_background": "light"
     },
     "output_type": "display_data"
    }
   ],
   "source": [
    "#Checking for  outliers\n",
    "sns.boxplot(training_data[\"CA19-9\"])"
   ]
  },
  {
   "cell_type": "code",
   "execution_count": 18,
   "metadata": {},
   "outputs": [
    {
     "name": "stderr",
     "output_type": "stream",
     "text": [
      "C:\\Users\\Admin\\anaconda3\\lib\\site-packages\\pandas\\core\\frame.py:4308: SettingWithCopyWarning:\n",
      "\n",
      "\n",
      "A value is trying to be set on a copy of a slice from a DataFrame\n",
      "\n",
      "See the caveats in the documentation: https://pandas.pydata.org/pandas-docs/stable/user_guide/indexing.html#returning-a-view-versus-a-copy\n",
      "\n"
     ]
    }
   ],
   "source": [
    "#droping extreme vaues\n",
    "training_data.drop(training_data[training_data[\"CEA\"]>125].index,inplace=True)"
   ]
  },
  {
   "cell_type": "code",
   "execution_count": 19,
   "metadata": {},
   "outputs": [
    {
     "name": "stderr",
     "output_type": "stream",
     "text": [
      "C:\\Users\\Admin\\anaconda3\\lib\\site-packages\\pandas\\core\\frame.py:4308: SettingWithCopyWarning:\n",
      "\n",
      "\n",
      "A value is trying to be set on a copy of a slice from a DataFrame\n",
      "\n",
      "See the caveats in the documentation: https://pandas.pydata.org/pandas-docs/stable/user_guide/indexing.html#returning-a-view-versus-a-copy\n",
      "\n"
     ]
    }
   ],
   "source": [
    "#droping extreme values\n",
    "training_data.drop(training_data[training_data[\"CA19-9\"]>900].index,inplace=True)"
   ]
  },
  {
   "cell_type": "code",
   "execution_count": null,
   "metadata": {},
   "outputs": [],
   "source": []
  },
  {
   "cell_type": "code",
   "execution_count": 20,
   "metadata": {},
   "outputs": [
    {
     "data": {
      "text/plain": [
       "TYPE      0\n",
       "Age       0\n",
       "CEA       0\n",
       "CA125     0\n",
       "CA19-9    1\n",
       "HE4       0\n",
       "CREA      0\n",
       "ALT       5\n",
       "dtype: int64"
      ]
     },
     "execution_count": 20,
     "metadata": {},
     "output_type": "execute_result"
    }
   ],
   "source": [
    "testing_data.isnull().sum()"
   ]
  },
  {
   "cell_type": "code",
   "execution_count": 21,
   "metadata": {},
   "outputs": [
    {
     "name": "stderr",
     "output_type": "stream",
     "text": [
      "<ipython-input-21-4211b2a974f9>:2: SettingWithCopyWarning:\n",
      "\n",
      "\n",
      "A value is trying to be set on a copy of a slice from a DataFrame\n",
      "\n",
      "See the caveats in the documentation: https://pandas.pydata.org/pandas-docs/stable/user_guide/indexing.html#returning-a-view-versus-a-copy\n",
      "\n"
     ]
    }
   ],
   "source": [
    "#droping null values\n",
    "testing_data.dropna(inplace=True)"
   ]
  },
  {
   "cell_type": "code",
   "execution_count": 22,
   "metadata": {},
   "outputs": [
    {
     "data": {
      "text/plain": [
       "TYPE        int64\n",
       "Age         int64\n",
       "CEA       float64\n",
       "CA125     float64\n",
       "CA19-9     object\n",
       "HE4       float64\n",
       "CREA        int64\n",
       "ALT       float64\n",
       "dtype: object"
      ]
     },
     "execution_count": 22,
     "metadata": {},
     "output_type": "execute_result"
    }
   ],
   "source": [
    "testing_data.dtypes"
   ]
  },
  {
   "cell_type": "code",
   "execution_count": 23,
   "metadata": {},
   "outputs": [
    {
     "name": "stderr",
     "output_type": "stream",
     "text": [
      "<ipython-input-23-f88d1f16b13c>:2: SettingWithCopyWarning:\n",
      "\n",
      "\n",
      "A value is trying to be set on a copy of a slice from a DataFrame.\n",
      "Try using .loc[row_indexer,col_indexer] = value instead\n",
      "\n",
      "See the caveats in the documentation: https://pandas.pydata.org/pandas-docs/stable/user_guide/indexing.html#returning-a-view-versus-a-copy\n",
      "\n"
     ]
    }
   ],
   "source": [
    "#CA19-9 is showing object data because there are > , < in it . So converting it back to float64\n",
    "testing_data[\"CA19-9\"]=testing_data[\"CA19-9\"].replace({\">\":\"\",\"<\":\"\"},regex=True).astype(np.float64)\n"
   ]
  },
  {
   "cell_type": "code",
   "execution_count": 24,
   "metadata": {},
   "outputs": [
    {
     "data": {
      "text/html": [
       "<div>\n",
       "<style scoped>\n",
       "    .dataframe tbody tr th:only-of-type {\n",
       "        vertical-align: middle;\n",
       "    }\n",
       "\n",
       "    .dataframe tbody tr th {\n",
       "        vertical-align: top;\n",
       "    }\n",
       "\n",
       "    .dataframe thead th {\n",
       "        text-align: right;\n",
       "    }\n",
       "</style>\n",
       "<table border=\"1\" class=\"dataframe\">\n",
       "  <thead>\n",
       "    <tr style=\"text-align: right;\">\n",
       "      <th></th>\n",
       "      <th>TYPE</th>\n",
       "      <th>Age</th>\n",
       "      <th>CEA</th>\n",
       "      <th>CA125</th>\n",
       "      <th>CA19-9</th>\n",
       "      <th>HE4</th>\n",
       "      <th>CREA</th>\n",
       "      <th>ALT</th>\n",
       "    </tr>\n",
       "  </thead>\n",
       "  <tbody>\n",
       "    <tr>\n",
       "      <th>0</th>\n",
       "      <td>0</td>\n",
       "      <td>47</td>\n",
       "      <td>1.40</td>\n",
       "      <td>15.36</td>\n",
       "      <td>36.48</td>\n",
       "      <td>208.552698</td>\n",
       "      <td>103.0</td>\n",
       "      <td>11.0</td>\n",
       "    </tr>\n",
       "    <tr>\n",
       "      <th>1</th>\n",
       "      <td>0</td>\n",
       "      <td>61</td>\n",
       "      <td>2.46</td>\n",
       "      <td>2444.00</td>\n",
       "      <td>19.98</td>\n",
       "      <td>934.100000</td>\n",
       "      <td>45.0</td>\n",
       "      <td>9.0</td>\n",
       "    </tr>\n",
       "    <tr>\n",
       "      <th>2</th>\n",
       "      <td>0</td>\n",
       "      <td>39</td>\n",
       "      <td>0.77</td>\n",
       "      <td>56.08</td>\n",
       "      <td>12.18</td>\n",
       "      <td>47.560000</td>\n",
       "      <td>48.0</td>\n",
       "      <td>9.0</td>\n",
       "    </tr>\n",
       "    <tr>\n",
       "      <th>3</th>\n",
       "      <td>0</td>\n",
       "      <td>45</td>\n",
       "      <td>0.82</td>\n",
       "      <td>2555.00</td>\n",
       "      <td>18.41</td>\n",
       "      <td>853.500000</td>\n",
       "      <td>65.7</td>\n",
       "      <td>16.0</td>\n",
       "    </tr>\n",
       "    <tr>\n",
       "      <th>4</th>\n",
       "      <td>0</td>\n",
       "      <td>45</td>\n",
       "      <td>0.42</td>\n",
       "      <td>1391.00</td>\n",
       "      <td>11.15</td>\n",
       "      <td>404.900000</td>\n",
       "      <td>70.3</td>\n",
       "      <td>21.0</td>\n",
       "    </tr>\n",
       "  </tbody>\n",
       "</table>\n",
       "</div>"
      ],
      "text/plain": [
       "   TYPE  Age   CEA    CA125  CA19-9         HE4   CREA   ALT\n",
       "0     0   47  1.40    15.36   36.48  208.552698  103.0  11.0\n",
       "1     0   61  2.46  2444.00   19.98  934.100000   45.0   9.0\n",
       "2     0   39  0.77    56.08   12.18   47.560000   48.0   9.0\n",
       "3     0   45  0.82  2555.00   18.41  853.500000   65.7  16.0\n",
       "4     0   45  0.42  1391.00   11.15  404.900000   70.3  21.0"
      ]
     },
     "execution_count": 24,
     "metadata": {},
     "output_type": "execute_result"
    }
   ],
   "source": [
    "training_data.head()"
   ]
  },
  {
   "cell_type": "code",
   "execution_count": 25,
   "metadata": {},
   "outputs": [
    {
     "data": {
      "text/plain": [
       "TYPE        int64\n",
       "Age         int64\n",
       "CEA       float64\n",
       "CA125     float64\n",
       "CA19-9    float64\n",
       "HE4       float64\n",
       "CREA        int64\n",
       "ALT       float64\n",
       "dtype: object"
      ]
     },
     "execution_count": 25,
     "metadata": {},
     "output_type": "execute_result"
    }
   ],
   "source": [
    "testing_data.dtypes"
   ]
  },
  {
   "cell_type": "code",
   "execution_count": null,
   "metadata": {},
   "outputs": [],
   "source": []
  },
  {
   "cell_type": "code",
   "execution_count": 26,
   "metadata": {},
   "outputs": [],
   "source": [
    "#checking correlation\n",
    "cor=training_data.corr()"
   ]
  },
  {
   "cell_type": "code",
   "execution_count": 27,
   "metadata": {},
   "outputs": [
    {
     "data": {
      "text/plain": [
       "<matplotlib.axes._subplots.AxesSubplot at 0x24e79d82460>"
      ]
     },
     "execution_count": 27,
     "metadata": {},
     "output_type": "execute_result"
    },
    {
     "data": {
      "image/png": "[encoded data removed]",
      "text/plain": [
       "<Figure size 1440x1440 with 2 Axes>"
      ]
     },
     "metadata": {
      "needs_background": "light"
     },
     "output_type": "display_data"
    }
   ],
   "source": [
    "plt.figure(figsize=(20,20))\n",
    "sns.heatmap(cor,vmin=-1,vmax=1,annot=True)"
   ]
  },
  {
   "cell_type": "code",
   "execution_count": null,
   "metadata": {},
   "outputs": [],
   "source": []
  },
  {
   "cell_type": "code",
   "execution_count": 28,
   "metadata": {},
   "outputs": [
    {
     "data": {
      "text/plain": [
       "<matplotlib.axes._subplots.AxesSubplot at 0x24e769d6a00>"
      ]
     },
     "execution_count": 28,
     "metadata": {},
     "output_type": "execute_result"
    },
    {
     "data": {
      "image/png": "[encoded data removed]",
      "text/plain": [
       "<Figure size 432x288 with 1 Axes>"
      ]
     },
     "metadata": {
      "needs_background": "light"
     },
     "output_type": "display_data"
    }
   ],
   "source": [
    "#checking if data is balenced or unbalanced\n",
    "sns.barplot(training_data[\"TYPE\"].value_counts().index,training_data[\"TYPE\"].value_counts())"
   ]
  },
  {
   "cell_type": "code",
   "execution_count": 29,
   "metadata": {},
   "outputs": [],
   "source": [
    "#0-->malignant\n",
    "#1-->Benign"
   ]
  },
  {
   "cell_type": "code",
   "execution_count": 30,
   "metadata": {},
   "outputs": [],
   "source": [
    "#splitting the training data\n",
    "X=training_data.iloc[:,1:]\n",
    "Y=training_data.iloc[:,0]"
   ]
  },
  {
   "cell_type": "code",
   "execution_count": 31,
   "metadata": {},
   "outputs": [
    {
     "data": {
      "text/plain": [
       "(231, 7)"
      ]
     },
     "execution_count": 31,
     "metadata": {},
     "output_type": "execute_result"
    }
   ],
   "source": [
    "X.shape"
   ]
  },
  {
   "cell_type": "code",
   "execution_count": 119,
   "metadata": {},
   "outputs": [
    {
     "data": {
      "text/html": [
       "<div>\n",
       "<style scoped>\n",
       "    .dataframe tbody tr th:only-of-type {\n",
       "        vertical-align: middle;\n",
       "    }\n",
       "\n",
       "    .dataframe tbody tr th {\n",
       "        vertical-align: top;\n",
       "    }\n",
       "\n",
       "    .dataframe thead th {\n",
       "        text-align: right;\n",
       "    }\n",
       "</style>\n",
       "<table border=\"1\" class=\"dataframe\">\n",
       "  <thead>\n",
       "    <tr style=\"text-align: right;\">\n",
       "      <th></th>\n",
       "      <th>Age</th>\n",
       "      <th>CEA</th>\n",
       "      <th>CA125</th>\n",
       "      <th>CA19-9</th>\n",
       "      <th>HE4</th>\n",
       "      <th>CREA</th>\n",
       "      <th>ALT</th>\n",
       "    </tr>\n",
       "  </thead>\n",
       "  <tbody>\n",
       "    <tr>\n",
       "      <th>0</th>\n",
       "      <td>47</td>\n",
       "      <td>1.40</td>\n",
       "      <td>15.36</td>\n",
       "      <td>36.48</td>\n",
       "      <td>208.552698</td>\n",
       "      <td>103.0</td>\n",
       "      <td>11.0</td>\n",
       "    </tr>\n",
       "    <tr>\n",
       "      <th>1</th>\n",
       "      <td>61</td>\n",
       "      <td>2.46</td>\n",
       "      <td>2444.00</td>\n",
       "      <td>19.98</td>\n",
       "      <td>934.100000</td>\n",
       "      <td>45.0</td>\n",
       "      <td>9.0</td>\n",
       "    </tr>\n",
       "    <tr>\n",
       "      <th>2</th>\n",
       "      <td>39</td>\n",
       "      <td>0.77</td>\n",
       "      <td>56.08</td>\n",
       "      <td>12.18</td>\n",
       "      <td>47.560000</td>\n",
       "      <td>48.0</td>\n",
       "      <td>9.0</td>\n",
       "    </tr>\n",
       "    <tr>\n",
       "      <th>3</th>\n",
       "      <td>45</td>\n",
       "      <td>0.82</td>\n",
       "      <td>2555.00</td>\n",
       "      <td>18.41</td>\n",
       "      <td>853.500000</td>\n",
       "      <td>65.7</td>\n",
       "      <td>16.0</td>\n",
       "    </tr>\n",
       "    <tr>\n",
       "      <th>4</th>\n",
       "      <td>45</td>\n",
       "      <td>0.42</td>\n",
       "      <td>1391.00</td>\n",
       "      <td>11.15</td>\n",
       "      <td>404.900000</td>\n",
       "      <td>70.3</td>\n",
       "      <td>21.0</td>\n",
       "    </tr>\n",
       "  </tbody>\n",
       "</table>\n",
       "</div>"
      ],
      "text/plain": [
       "   Age   CEA    CA125  CA19-9         HE4   CREA   ALT\n",
       "0   47  1.40    15.36   36.48  208.552698  103.0  11.0\n",
       "1   61  2.46  2444.00   19.98  934.100000   45.0   9.0\n",
       "2   39  0.77    56.08   12.18   47.560000   48.0   9.0\n",
       "3   45  0.82  2555.00   18.41  853.500000   65.7  16.0\n",
       "4   45  0.42  1391.00   11.15  404.900000   70.3  21.0"
      ]
     },
     "execution_count": 119,
     "metadata": {},
     "output_type": "execute_result"
    }
   ],
   "source": [
    "X.head()"
   ]
  },
  {
   "cell_type": "code",
   "execution_count": 32,
   "metadata": {},
   "outputs": [],
   "source": [
    "#splitting the testing data\n",
    "X_test=testing_data.iloc[:,1:]\n",
    "Y_test=testing_data.iloc[:,0]"
   ]
  },
  {
   "cell_type": "code",
   "execution_count": 120,
   "metadata": {},
   "outputs": [
    {
     "data": {
      "text/html": [
       "<div>\n",
       "<style scoped>\n",
       "    .dataframe tbody tr th:only-of-type {\n",
       "        vertical-align: middle;\n",
       "    }\n",
       "\n",
       "    .dataframe tbody tr th {\n",
       "        vertical-align: top;\n",
       "    }\n",
       "\n",
       "    .dataframe thead th {\n",
       "        text-align: right;\n",
       "    }\n",
       "</style>\n",
       "<table border=\"1\" class=\"dataframe\">\n",
       "  <thead>\n",
       "    <tr style=\"text-align: right;\">\n",
       "      <th></th>\n",
       "      <th>Age</th>\n",
       "      <th>CEA</th>\n",
       "      <th>CA125</th>\n",
       "      <th>CA19-9</th>\n",
       "      <th>HE4</th>\n",
       "      <th>CREA</th>\n",
       "      <th>ALT</th>\n",
       "    </tr>\n",
       "  </thead>\n",
       "  <tbody>\n",
       "    <tr>\n",
       "      <th>0</th>\n",
       "      <td>56</td>\n",
       "      <td>0.58</td>\n",
       "      <td>1319.00</td>\n",
       "      <td>4.83</td>\n",
       "      <td>1500.0</td>\n",
       "      <td>69</td>\n",
       "      <td>12.0</td>\n",
       "    </tr>\n",
       "    <tr>\n",
       "      <th>1</th>\n",
       "      <td>72</td>\n",
       "      <td>3.77</td>\n",
       "      <td>105.40</td>\n",
       "      <td>33.37</td>\n",
       "      <td>103.7</td>\n",
       "      <td>76</td>\n",
       "      <td>13.0</td>\n",
       "    </tr>\n",
       "    <tr>\n",
       "      <th>2</th>\n",
       "      <td>57</td>\n",
       "      <td>4.57</td>\n",
       "      <td>515.10</td>\n",
       "      <td>17.82</td>\n",
       "      <td>162.9</td>\n",
       "      <td>67</td>\n",
       "      <td>18.0</td>\n",
       "    </tr>\n",
       "    <tr>\n",
       "      <th>3</th>\n",
       "      <td>43</td>\n",
       "      <td>1.22</td>\n",
       "      <td>42.17</td>\n",
       "      <td>9.91</td>\n",
       "      <td>145.5</td>\n",
       "      <td>63</td>\n",
       "      <td>5.0</td>\n",
       "    </tr>\n",
       "    <tr>\n",
       "      <th>4</th>\n",
       "      <td>65</td>\n",
       "      <td>2.13</td>\n",
       "      <td>1065.00</td>\n",
       "      <td>1000.00</td>\n",
       "      <td>269.5</td>\n",
       "      <td>66</td>\n",
       "      <td>6.0</td>\n",
       "    </tr>\n",
       "  </tbody>\n",
       "</table>\n",
       "</div>"
      ],
      "text/plain": [
       "   Age   CEA    CA125   CA19-9     HE4  CREA   ALT\n",
       "0   56  0.58  1319.00     4.83  1500.0    69  12.0\n",
       "1   72  3.77   105.40    33.37   103.7    76  13.0\n",
       "2   57  4.57   515.10    17.82   162.9    67  18.0\n",
       "3   43  1.22    42.17     9.91   145.5    63   5.0\n",
       "4   65  2.13  1065.00  1000.00   269.5    66   6.0"
      ]
     },
     "execution_count": 120,
     "metadata": {},
     "output_type": "execute_result"
    }
   ],
   "source": [
    "X_test.head()"
   ]
  },
  {
   "cell_type": "code",
   "execution_count": 33,
   "metadata": {},
   "outputs": [
    {
     "data": {
      "text/plain": [
       "array([[ 6.15554627e-01, -3.68043978e-01,  1.04446116e+00,\n",
       "        -4.85968879e-01,  3.12798356e+00,  3.35019231e-01,\n",
       "        -5.78262681e-01],\n",
       "       [ 1.67570835e+00,  2.70295616e-01, -3.47274086e-01,\n",
       "        -9.24659643e-02, -2.59326080e-01,  9.02212296e-01,\n",
       "        -4.88964334e-01],\n",
       "       [ 6.81814235e-01,  4.30380781e-01,  1.22562707e-01,\n",
       "        -3.06865766e-01, -1.15711721e-01,  1.72964069e-01,\n",
       "        -4.24725997e-02],\n",
       "       [-2.45820277e-01, -2.39975846e-01, -4.19785144e-01,\n",
       "        -4.15927015e-01, -1.57922698e-01, -1.51146253e-01,\n",
       "        -1.20335111e+00],\n",
       "       [ 1.21189110e+00, -5.78789714e-02,  7.53178408e-01,\n",
       "         1.32352048e+01,  1.42891163e-01,  9.19364887e-02,\n",
       "        -1.11405276e+00],\n",
       "       [ 1.51737371e-01, -2.88001396e-01, -7.92710140e-02,\n",
       "        -3.77045508e-01,  9.65561251e-02, -3.94228995e-01,\n",
       "         4.93317481e-01],\n",
       "       [-2.45820277e-01,  5.11287185e+00, -3.39017252e-01,\n",
       "         3.16048227e+00, -3.96560275e-01, -8.80394480e-01,\n",
       "        -3.10367640e-01],\n",
       "       [ 4.83035411e-01,  1.66240259e-01, -2.36953609e-01,\n",
       "        -2.61641885e-01, -1.05522864e-01, -2.32173834e-01,\n",
       "         4.93317481e-01],\n",
       "       [ 8.54777627e-02,  1.66103549e+00,  1.04446116e+00,\n",
       "        -4.04860768e-02,  4.42734658e-01, -4.75256576e-01,\n",
       "         4.93317481e-01],\n",
       "       [ 2.17996979e-01,  6.32751804e+00,  5.99509552e-01,\n",
       "        -2.02905991e-01, -4.00344708e-01, -2.32173834e-01,\n",
       "        -7.56859374e-01],\n",
       "       [ 1.67570835e+00,  1.40226420e-01,  2.56165442e+00,\n",
       "        -5.42085097e-01,  9.67460773e-01,  9.19364887e-02,\n",
       "        -5.78262681e-01],\n",
       "       [ 2.84256587e-01, -1.89949232e-01,  1.00891091e+00,\n",
       "        -4.64873593e-01,  2.25857567e-01,  4.97074392e-01,\n",
       "        -1.31770947e-01],\n",
       "       [ 8.14333451e-01, -1.61934329e-01, -8.78718828e-02,\n",
       "        -4.31782949e-01, -3.01585576e-01,  9.19364887e-02,\n",
       "        -1.31770947e-01],\n",
       "       [ 1.51737371e-01,  9.42019351e-02, -4.32892868e-01,\n",
       "        -5.41947220e-01,  2.23674241e-01,  9.19364887e-02,\n",
       "         1.65419599e+00],\n",
       "       [ 8.80593059e-01,  9.06634146e-01,  1.25317558e+00,\n",
       "         8.85500460e-01,  3.21681338e-01, -3.94228995e-01,\n",
       "         7.61212522e-01],\n",
       "       [ 1.47692953e+00, -2.79997138e-01, -3.38214504e-01,\n",
       "        -3.81043960e-01, -3.15947012e-01,  1.22632262e+00,\n",
       "         3.14720788e-01],\n",
       "       [ 1.80822757e+00, -1.81944974e-01,  4.01230856e-01,\n",
       "        -1.96149984e-01,  3.12798356e+00,  3.98126036e+00,\n",
       "         4.68257471e-02],\n",
       "       [ 3.50516195e-01, -2.01955620e-01, -2.26059175e-01,\n",
       "        -4.31645071e-01,  7.03562082e-02, -3.13201415e-01,\n",
       "         5.82615828e-01],\n",
       "       [ 1.21189110e+00,  1.40489922e+00, -1.01200288e-02,\n",
       "         3.08895979e-01,  8.69453676e-01,  9.19364887e-02,\n",
       "        -7.56859374e-01],\n",
       "       [ 6.81814235e-01, -2.88001396e-01, -1.72275075e-01,\n",
       "        -4.31782949e-01,  4.02464415e-01, -4.75256576e-01,\n",
       "        -5.78262681e-01],\n",
       "       [ 1.41066992e+00,  1.14212581e-01, -4.13959489e-01,\n",
       "         1.22485348e-01, -1.28811679e-01,  1.55043294e+00,\n",
       "        -6.67561028e-01],\n",
       "       [ 1.14563149e+00, -2.33972653e-01,  2.27725236e+00,\n",
       "        -4.65287226e-01,  1.14528058e+00, -7.18339318e-01,\n",
       "        -1.02475441e+00],\n",
       "       [-3.12079885e-01, -3.24020558e-01,  2.00202456e+00,\n",
       "        -2.14901349e-01,  2.66463317e+00,  6.59129554e-01,\n",
       "        -8.46157721e-01],\n",
       "       [ 1.27815071e+00, -3.66042914e-01,  2.50431530e+00,\n",
       "        -4.55497911e-01,  1.75418606e+00, -1.12347722e+00,\n",
       "         7.61212522e-01],\n",
       "       [-1.70353165e+00, -1.59933264e-01, -4.40977685e-01,\n",
       "         1.77756909e+00, -4.02164146e-01,  4.16046812e-01,\n",
       "        -3.99665987e-01],\n",
       "       [-4.70414533e-02, -2.73993944e-01, -4.18168181e-01,\n",
       "        -3.76218241e-01, -3.81276990e-01, -3.13201415e-01,\n",
       "         4.69033978e+00],\n",
       "       [-1.63727204e+00, -1.47926877e-01, -1.74453962e-01,\n",
       "         1.47837451e+00, -3.37780276e-01, -5.56284157e-01,\n",
       "        -3.10367640e-01],\n",
       "       [ 1.07937188e+00,  1.58236001e-01, -4.56470716e-01,\n",
       "        -1.25970242e-01, -3.75745897e-01,  4.97074392e-01,\n",
       "        -6.67561028e-01],\n",
       "       [-1.10719518e+00, -2.65989686e-01, -4.41035024e-01,\n",
       "        -2.33928470e-01, -4.12037633e-01, -4.75256576e-01,\n",
       "        -8.46157721e-01],\n",
       "       [-5.10858709e-01, -2.78630030e-02, -4.42640519e-01,\n",
       "        -2.39719333e-01, -4.25283147e-01, -3.94228995e-01,\n",
       "        -3.10367640e-01],\n",
       "       [ 2.17996979e-01, -1.19911973e-01, -4.63844528e-01,\n",
       "        -5.44291140e-01, -4.30789981e-01,  1.09089081e-02,\n",
       "         1.47559930e+00],\n",
       "       [ 1.51737371e-01,  3.20322230e-01, -4.45117569e-01,\n",
       "        -5.44291140e-01, -3.90713812e-01, -7.01186726e-02,\n",
       "        -4.88964334e-01],\n",
       "       [ 1.01311227e+00, -4.58725841e-02, -4.52766609e-01,\n",
       "        -4.09171008e-01, -4.25671294e-01, -3.13201415e-01,\n",
       "        -2.21069293e-01],\n",
       "       [-1.37223361e+00,  4.01731920e-02, -4.11172807e-01,\n",
       "        -1.73226256e-02, -3.95226020e-01, -7.99366899e-01,\n",
       "        -5.78262681e-01],\n",
       "       [ 3.50516195e-01, -1.61934329e-01, -4.40243744e-01,\n",
       "        -3.85180291e-01, -4.30086465e-01,  9.19364887e-02,\n",
       "        -4.24725997e-02],\n",
       "       [-4.70414533e-02,  4.15402993e-03, -4.52250557e-01,\n",
       "        -5.30365494e-01, -4.24603890e-01, -1.28553238e+00,\n",
       "         4.04019134e-01],\n",
       "       [-5.77118317e-01, -1.47926877e-01, -3.82136274e-01,\n",
       "        -8.35039147e-02, -4.23463708e-01,  4.16046812e-01,\n",
       "        -5.78262681e-01],\n",
       "       [-4.70414533e-02, -7.38874879e-02, -4.55243659e-01,\n",
       "        -3.99795326e-01, -3.97312310e-01,  9.02212296e-01,\n",
       "         1.02910756e+00],\n",
       "       [-9.74675965e-01, -2.55984363e-01, -4.31895167e-01,\n",
       "        -3.89868132e-01, -4.09175050e-01,  1.72964069e-01,\n",
       "        -7.56859374e-01],\n",
       "       [-1.30597401e+00, -2.43977975e-01, -4.11792070e-01,\n",
       "        -6.02025859e-02, -4.27029808e-01, -1.69067029e+00,\n",
       "        -2.21069293e-01],\n",
       "       [-1.10719518e+00, -3.48033333e-01, -3.36150296e-01,\n",
       "         2.74426557e-01, -3.96244906e-01,  1.72964069e-01,\n",
       "        -1.02475441e+00],\n",
       "       [ 1.47692953e+00, -3.40029074e-01, -4.61057846e-01,\n",
       "        -4.95344562e-01, -3.64441118e-01,  9.02212296e-01,\n",
       "        -4.88964334e-01],\n",
       "       [-1.37223361e+00, -2.69991815e-01, -4.56745944e-01,\n",
       "        -3.67807703e-01, -4.25283147e-01, -7.01186726e-02,\n",
       "        -3.10367640e-01],\n",
       "       [ 2.17996979e-01, -6.18811005e-02, -4.39750627e-01,\n",
       "        -3.88902989e-01, -4.09393383e-01, -8.80394480e-01,\n",
       "         1.38630095e+00],\n",
       "       [-7.75897141e-01, -2.23967330e-01, -4.61264267e-01,\n",
       "        -2.89906810e-01, -3.92120845e-01,  2.53991650e-01,\n",
       "        -4.88964334e-01],\n",
       "       [-7.75897141e-01, -2.90002460e-01, -4.51872118e-01,\n",
       "        -4.55360033e-01, -3.79360515e-01, -1.12347722e+00,\n",
       "         7.61212522e-01],\n",
       "       [-9.74675965e-01, -3.76048236e-01, -4.57422546e-01,\n",
       "        -4.94930929e-01, -4.03304328e-01,  7.40157134e-01,\n",
       "        -6.67561028e-01],\n",
       "       [-1.04093557e+00, -1.81944974e-01, -4.21883756e-01,\n",
       "        -2.08696853e-01, -4.18757427e-01,  9.19364887e-02,\n",
       "        -5.78262681e-01],\n",
       "       [-9.08416357e-01, -3.08012041e-01, -4.41562544e-01,\n",
       "        -3.46160906e-01, -4.20576866e-01, -7.18339318e-01,\n",
       "        -9.35456068e-01],\n",
       "       [-1.70353165e+00, -1.49927941e-01, -4.38420360e-01,\n",
       "        -4.58531220e-01, -3.59298171e-01,  1.72964069e-01,\n",
       "         1.36124094e-01],\n",
       "       [-1.23971440e+00, -4.08065269e-01, -4.50301026e-01,\n",
       "        -3.70289501e-01, -4.37485516e-01, -6.37311738e-01,\n",
       "        -5.78262681e-01],\n",
       "       [-1.04093557e+00, -3.26021622e-01, -4.37686419e-01,\n",
       "        -4.62391795e-01, -3.95298798e-01,  3.35019231e-01,\n",
       "        -3.99665987e-01],\n",
       "       [-1.04093557e+00, -3.30023752e-01, -4.43190975e-01,\n",
       "        -4.60323630e-01, -4.03862289e-01,  1.14529504e+00,\n",
       "        -8.46157721e-01],\n",
       "       [ 1.92181547e-02, -3.58038655e-01, -3.72411558e-01,\n",
       "        -4.87761289e-01, -3.89767704e-01,  8.21184715e-01,\n",
       "        -7.56859374e-01],\n",
       "       [ 1.21189110e+00, -1.21913037e-01, -4.44131336e-01,\n",
       "        -3.46712417e-01, -3.66624444e-01, -7.18339318e-01,\n",
       "         2.90437285e+00],\n",
       "       [-1.17345479e+00, -2.33972653e-01, -4.42766665e-01,\n",
       "        -4.14134605e-01, -3.99058971e-01, -3.13201415e-01,\n",
       "        -3.99665987e-01],\n",
       "       [-5.10858709e-01, -2.61987557e-01, -2.55416807e-01,\n",
       "         2.45041219e+00, -4.02212665e-01, -6.37311738e-01,\n",
       "        -2.21069293e-01],\n",
       "       [-2.10108930e+00,  3.16320101e-01, -4.22124580e-01,\n",
       "         9.22901345e-02, -3.92217881e-01, -7.99366899e-01,\n",
       "        -3.99665987e-01],\n",
       "       [-3.12079885e-01, -1.05904521e-01, -3.56872656e-01,\n",
       "        -5.12441395e-01, -4.12255966e-01, -3.13201415e-01,\n",
       "        -1.11405276e+00],\n",
       "       [-1.43849322e+00, -2.75995008e-01, -4.23718608e-01,\n",
       "        -4.25716331e-01, -4.27248141e-01, -1.28553238e+00,\n",
       "        -7.56859374e-01],\n",
       "       [-1.13301061e-01, -2.41976911e-01, -4.44406564e-01,\n",
       "        -3.24789865e-01, -4.19800572e-01, -2.32173834e-01,\n",
       "        -6.67561028e-01],\n",
       "       [-2.45820277e-01, -2.25968394e-01, -4.51310195e-01,\n",
       "        -4.84727980e-01, -4.11625227e-01, -3.13201415e-01,\n",
       "        -9.35456068e-01],\n",
       "       [-1.37223361e+00, -7.98906816e-02, -4.44211611e-01,\n",
       "        -1.84256471e-02, -4.26180737e-01, -4.75256576e-01,\n",
       "         5.82615828e-01],\n",
       "       [-9.08416357e-01, -3.86053559e-01, -4.31424986e-01,\n",
       "        -4.31093560e-01, -3.85085682e-01, -1.51146253e-01,\n",
       "        -4.88964334e-01],\n",
       "       [-4.70414533e-02, -9.38981335e-02, -4.60828490e-01,\n",
       "        -3.29753461e-01, -3.90010296e-01,  2.36070875e+00,\n",
       "         4.68257471e-02],\n",
       "       [-6.43377925e-01,  4.01731920e-02, -4.55862922e-01,\n",
       "        -5.43877507e-01, -4.18563354e-01,  1.09089081e-02,\n",
       "         1.20770426e+00],\n",
       "       [ 1.27815071e+00, -3.58672613e-02, -1.69637476e-01,\n",
       "        -2.23311888e-01,  7.79209517e-01,  1.87454326e+00,\n",
       "        -1.29264946e+00],\n",
       "       [-1.50475283e+00, -1.95952426e-01, -4.33523598e-01,\n",
       "        -2.99971881e-01, -3.99689710e-01, -3.94228995e-01,\n",
       "        -3.10367640e-01],\n",
       "       [-1.37223361e+00, -2.17964136e-01, -4.58225293e-01,\n",
       "        -3.61603207e-01, -4.16574101e-01, -7.18339318e-01,\n",
       "        -4.88964334e-01],\n",
       "       [-6.43377925e-01, -3.46032268e-01, -4.34395153e-01,\n",
       "        -3.89454499e-01, -3.94546763e-01, -1.51146253e-01,\n",
       "        -6.67561028e-01],\n",
       "       [-1.79560669e-01, -2.61987557e-01, -3.99567368e-01,\n",
       "        -2.76394797e-01, -4.17787060e-01,  4.16046812e-01,\n",
       "        -6.67561028e-01],\n",
       "       [-9.08416357e-01,  1.42227485e-01, -4.42583180e-01,\n",
       "        -9.68780503e-02, -4.12450040e-01, -3.94228995e-01,\n",
       "        -6.67561028e-01],\n",
       "       [ 1.14563149e+00, -7.58885525e-02, -4.48053333e-01,\n",
       "         1.49923007e-01, -3.61966681e-01, -6.37311738e-01,\n",
       "         4.51174309e+00],\n",
       "       [-4.44599101e-01, -3.30023752e-01, -4.37434127e-01,\n",
       "        -3.90695398e-01, -4.27830361e-01,  4.97074392e-01,\n",
       "        -1.11405276e+00],\n",
       "       [ 1.21189110e+00,  7.01891604e-02, -4.58351440e-01,\n",
       "        -4.93138519e-01, -3.62718716e-01,  5.78101973e-01,\n",
       "        -2.21069293e-01],\n",
       "       [-9.08416357e-01, -5.38768423e-02, -4.05393023e-01,\n",
       "        -2.39995088e-01, -3.87511600e-01, -7.01186726e-02,\n",
       "        -1.20335111e+00],\n",
       "       [-4.44599101e-01, -2.29970524e-01, -4.31184162e-01,\n",
       "        -3.10726341e-01, -3.94110098e-01, -4.75256576e-01,\n",
       "        -3.99665987e-01],\n",
       "       [ 1.92181547e-02, -2.27969459e-01, -4.52720737e-01,\n",
       "        -2.04422645e-01, -3.98161381e-01, -7.99366899e-01,\n",
       "        -3.99665987e-01],\n",
       "       [-1.30597401e+00, -3.32024816e-01, -4.32032781e-01,\n",
       "        -1.80983439e-01, -4.01630444e-01, -2.32173834e-01,\n",
       "         1.36124094e-01],\n",
       "       [-9.08416357e-01, -3.22019493e-01, -4.51264324e-01,\n",
       "        -3.90695398e-01, -4.34016453e-01, -1.12347722e+00,\n",
       "         1.56489764e+00],\n",
       "       [-5.77118317e-01, -6.38821651e-02, -4.31424986e-01,\n",
       "        -2.36410268e-01, -4.29771096e-01,  4.97074392e-01,\n",
       "        -5.78262681e-01],\n",
       "       [-1.43849322e+00, -2.65989686e-01, -4.45346926e-01,\n",
       "        -5.44291140e-01, -4.03449883e-01,  2.53991650e-01,\n",
       "         4.68257471e-02],\n",
       "       [ 2.17996979e-01,  1.12211516e-01, -4.57858323e-01,\n",
       "        -5.44291140e-01, -4.06191171e-01,  2.53991650e-01,\n",
       "        -7.56859374e-01],\n",
       "       [-1.17345479e+00, -3.38028010e-01, -4.53603760e-01,\n",
       "        -5.24712509e-01, -4.09320605e-01,  2.53991650e-01,\n",
       "         4.68257471e-02],\n",
       "       [-7.75897141e-01, -1.57932199e-01, -4.13879214e-01,\n",
       "         3.68734894e-01, -3.98986193e-01, -7.01186726e-02,\n",
       "        -3.99665987e-01],\n",
       "       [-1.37223361e+00, -2.09959878e-01, -4.49624425e-01,\n",
       "         9.40651535e-01, -4.16161694e-01, -3.94228995e-01,\n",
       "        -4.88964334e-01],\n",
       "       [-1.76979126e+00, -1.18544865e-02, -4.26012173e-01,\n",
       "        -5.42912363e-01, -3.64295563e-01, -7.01186726e-02,\n",
       "        -5.78262681e-01],\n",
       "       [-1.63727204e+00, -2.03956684e-01, -4.49773506e-01,\n",
       "        -4.77558340e-01, -4.28824988e-01,  4.16046812e-01,\n",
       "        -7.56859374e-01],\n",
       "       [-1.79560669e-01, -2.77996073e-01, -1.89247456e-01,\n",
       "         4.73420090e-02, -3.98646565e-01,  5.78101973e-01,\n",
       "        -2.21069293e-01],\n",
       "       [-5.77118317e-01, -3.04009912e-01, -4.61333074e-01,\n",
       "        -3.98554427e-01, -4.30595908e-01, -8.80394480e-01,\n",
       "         1.20770426e+00],\n",
       "       [-1.90231048e+00, -1.69938587e-01, -3.90783014e-01,\n",
       "        -4.38263200e-01, -3.61287424e-01,  9.02212296e-01,\n",
       "        -8.46157721e-01],\n",
       "       [-9.74675965e-01, -3.84052495e-01, -3.28925566e-01,\n",
       "         1.74603113e-01, -9.09673547e-02, -1.93375303e+00,\n",
       "         7.61212522e-01],\n",
       "       [-1.37223361e+00, -3.18651321e-02, -4.42514373e-01,\n",
       "        -5.44291140e-01, -4.00951187e-01, -7.18339318e-01,\n",
       "        -2.21069293e-01],\n",
       "       [-1.17345479e+00, -2.29970524e-01, -4.17308094e-01,\n",
       "        -4.90105210e-01, -3.83460317e-01,  9.19364887e-02,\n",
       "        -7.56859374e-01],\n",
       "       [-4.70414533e-02, -2.45979040e-01, -4.19085607e-01,\n",
       "        -5.44291140e-01, -3.93406581e-01, -7.18339318e-01,\n",
       "        -1.02475441e+00],\n",
       "       [ 2.17996979e-01, -1.03903456e-01, -4.62273436e-01,\n",
       "        -4.79212873e-01, -4.10606342e-01, -7.18339318e-01,\n",
       "        -4.24725997e-02],\n",
       "       [-7.09637533e-01, -2.07958813e-01, -4.48122140e-01,\n",
       "        -3.97451405e-01, -4.08592830e-01, -1.51146253e-01,\n",
       "         1.29700260e+00],\n",
       "       [ 1.34441031e+00,  3.24324360e-01, -4.50874418e-01,\n",
       "        -1.01979525e-01, -3.76910337e-01, -1.12347722e+00,\n",
       "        -4.88964334e-01],\n",
       "       [-1.43849322e+00, -7.58885525e-02, -4.22124580e-01,\n",
       "        -2.87976523e-01, -4.14924476e-01, -7.18339318e-01,\n",
       "        -3.99665987e-01],\n",
       "       [ 7.48073843e-01,  2.58289229e-01, -4.47823976e-01,\n",
       "        -1.65403260e-01, -3.77613854e-01,  6.59129554e-01,\n",
       "        -5.78262681e-01],\n",
       "       [-1.76979126e+00, -5.85129287e-03, -4.59326205e-01,\n",
       "        -4.23096655e-01, -4.08398756e-01, -4.75256576e-01,\n",
       "         1.36124094e-01],\n",
       "       [-1.23971440e+00, -2.98006719e-01, -4.48064800e-01,\n",
       "        -3.75115220e-01, -3.94789355e-01, -3.13201415e-01,\n",
       "        -6.67561028e-01],\n",
       "       [-2.45820277e-01, -3.66042914e-01, -4.52537252e-01,\n",
       "        -4.37160179e-01, -4.13444666e-01,  1.72964069e-01,\n",
       "         1.02910756e+00],\n",
       "       [ 3.50516195e-01, -1.35920489e-01, -4.09888411e-01,\n",
       "        -3.44230618e-01, -4.34598673e-01, -8.80394480e-01,\n",
       "         1.92209103e+00],\n",
       "       [-6.43377925e-01, -1.49927941e-01, -4.42996022e-01,\n",
       "        -5.44015385e-01, -4.03085995e-01,  1.72964069e-01,\n",
       "        -8.46157721e-01],\n",
       "       [ 8.14333451e-01, -2.18598093e-02, -4.09280616e-01,\n",
       "        -5.22506466e-01, -4.07428389e-01, -1.20450480e+00,\n",
       "        -8.46157721e-01],\n",
       "       [-1.10719518e+00, -2.98006719e-01, -4.06367789e-01,\n",
       "        -4.04896800e-01, -4.36224038e-01, -4.75256576e-01,\n",
       "         6.71914175e-01],\n",
       "       [-5.10858709e-01, -3.32024816e-01, -4.14876915e-01,\n",
       "        -1.55613944e-01, -4.29819614e-01,  3.35019231e-01,\n",
       "        -1.02475441e+00]])"
      ]
     },
     "execution_count": 33,
     "metadata": {},
     "output_type": "execute_result"
    }
   ],
   "source": [
    "#Scaling the data \n",
    "from sklearn.preprocessing import StandardScaler\n",
    "scaler=StandardScaler()\n",
    "scaler.fit(X)\n",
    "scaler.transform(X)\n",
    "scaler.transform(X_test)"
   ]
  },
  {
   "cell_type": "code",
   "execution_count": null,
   "metadata": {},
   "outputs": [],
   "source": []
  },
  {
   "cell_type": "code",
   "execution_count": 34,
   "metadata": {},
   "outputs": [],
   "source": [
    "#Over sampling the data \n",
    "from imblearn.over_sampling import RandomOverSampler\n",
    "ros = RandomOverSampler()\n",
    "X_resampled, Y_resampled=ros.fit_sample(X, Y)\n"
   ]
  },
  {
   "cell_type": "code",
   "execution_count": 35,
   "metadata": {},
   "outputs": [
    {
     "data": {
      "text/plain": [
       "(284, 7)"
      ]
     },
     "execution_count": 35,
     "metadata": {},
     "output_type": "execute_result"
    }
   ],
   "source": [
    "X_resampled.shape"
   ]
  },
  {
   "cell_type": "code",
   "execution_count": null,
   "metadata": {},
   "outputs": [],
   "source": []
  },
  {
   "cell_type": "code",
   "execution_count": 36,
   "metadata": {},
   "outputs": [],
   "source": [
    "#Logistic Regression\n",
    "from sklearn.linear_model import LogisticRegression\n",
    "classifier_logistic=LogisticRegression()\n"
   ]
  },
  {
   "cell_type": "code",
   "execution_count": 37,
   "metadata": {},
   "outputs": [],
   "source": [
    "params={\n",
    " \"penalty\"    : ['l1', 'l2'] ,\n",
    " \"C\"        : np.arange(0.1,100,0.5),\n",
    " \"solver\" : [ 'newton-cg', 'lbfgs', 'liblinear', 'sag', 'saga' ],\n",
    "\n",
    "    \n",
    "}"
   ]
  },
  {
   "cell_type": "code",
   "execution_count": 38,
   "metadata": {},
   "outputs": [],
   "source": [
    "#Hyperparameter tuning using RanomizedSearchCV\n",
    "from sklearn.model_selection import RandomizedSearchCV\n",
    "random_search=RandomizedSearchCV(classifier_logistic,param_distributions=params,n_iter=5,scoring=\"roc_auc\",\n",
    "                                 n_jobs=-1,cv=5,verbose=3)\n"
   ]
  },
  {
   "cell_type": "code",
   "execution_count": 39,
   "metadata": {},
   "outputs": [
    {
     "name": "stdout",
     "output_type": "stream",
     "text": [
      "Fitting 5 folds for each of 5 candidates, totalling 25 fits\n"
     ]
    },
    {
     "name": "stderr",
     "output_type": "stream",
     "text": [
      "[Parallel(n_jobs=-1)]: Using backend LokyBackend with 4 concurrent workers.\n",
      "[Parallel(n_jobs=-1)]: Done  25 out of  25 | elapsed:    4.0s finished\n"
     ]
    },
    {
     "data": {
      "text/plain": [
       "RandomizedSearchCV(cv=5, estimator=LogisticRegression(), n_iter=5, n_jobs=-1,\n",
       "                   param_distributions={'C': array([ 0.1,  0.6,  1.1,  1.6,  2.1,  2.6,  3.1,  3.6,  4.1,  4.6,  5.1,\n",
       "        5.6,  6.1,  6.6,  7.1,  7.6,  8.1,  8.6,  9.1,  9.6, 10.1, 10.6,\n",
       "       11.1, 11.6, 12.1, 12.6, 13.1, 13.6, 14.1, 14.6, 15.1, 15.6, 16.1,\n",
       "       16.6, 17.1, 17.6, 18.1, 18.6, 19.1, 19.6, 20.1, 20.6, 21.1, 21.6,\n",
       "       22.1, 22.6, 23.1, 23.6, 24.1, 24.6, 25.1, 25.6, 26.1...\n",
       "       71.6, 72.1, 72.6, 73.1, 73.6, 74.1, 74.6, 75.1, 75.6, 76.1, 76.6,\n",
       "       77.1, 77.6, 78.1, 78.6, 79.1, 79.6, 80.1, 80.6, 81.1, 81.6, 82.1,\n",
       "       82.6, 83.1, 83.6, 84.1, 84.6, 85.1, 85.6, 86.1, 86.6, 87.1, 87.6,\n",
       "       88.1, 88.6, 89.1, 89.6, 90.1, 90.6, 91.1, 91.6, 92.1, 92.6, 93.1,\n",
       "       93.6, 94.1, 94.6, 95.1, 95.6, 96.1, 96.6, 97.1, 97.6, 98.1, 98.6,\n",
       "       99.1, 99.6]),\n",
       "                                        'penalty': ['l1', 'l2'],\n",
       "                                        'solver': ['newton-cg', 'lbfgs',\n",
       "                                                   'liblinear', 'sag',\n",
       "                                                   'saga']},\n",
       "                   scoring='roc_auc', verbose=3)"
      ]
     },
     "execution_count": 39,
     "metadata": {},
     "output_type": "execute_result"
    }
   ],
   "source": [
    "random_search.fit(X_resampled,Y_resampled)"
   ]
  },
  {
   "cell_type": "code",
   "execution_count": 40,
   "metadata": {},
   "outputs": [
    {
     "data": {
      "text/plain": [
       "LogisticRegression(C=92.6, penalty='l1', solver='liblinear')"
      ]
     },
     "execution_count": 40,
     "metadata": {},
     "output_type": "execute_result"
    }
   ],
   "source": [
    "random_search.best_estimator_"
   ]
  },
  {
   "cell_type": "code",
   "execution_count": 41,
   "metadata": {},
   "outputs": [
    {
     "data": {
      "text/plain": [
       "{'solver': 'liblinear', 'penalty': 'l1', 'C': 92.6}"
      ]
     },
     "execution_count": 41,
     "metadata": {},
     "output_type": "execute_result"
    }
   ],
   "source": [
    "random_search.best_params_"
   ]
  },
  {
   "cell_type": "code",
   "execution_count": 42,
   "metadata": {},
   "outputs": [],
   "source": [
    "from sklearn.linear_model import LogisticRegression#,\n",
    "classifier_logistic=LogisticRegression(C=20.1, penalty='l1', solver='liblinear')\n",
    "classifier_logistic.fit(X_resampled,Y_resampled)\n",
    "Y_pred=classifier_logistic.predict(X_test)"
   ]
  },
  {
   "cell_type": "code",
   "execution_count": 43,
   "metadata": {},
   "outputs": [
    {
     "name": "stdout",
     "output_type": "stream",
     "text": [
      "[[24  0]\n",
      " [ 7 77]]\n",
      "Classification Report: \n",
      "              precision    recall  f1-score   support\n",
      "\n",
      "           0       0.77      1.00      0.87        24\n",
      "           1       1.00      0.92      0.96        84\n",
      "\n",
      "    accuracy                           0.94       108\n",
      "   macro avg       0.89      0.96      0.91       108\n",
      "weighted avg       0.95      0.94      0.94       108\n",
      "\n",
      "Accuracy of the model: 0.9351851851851852\n"
     ]
    }
   ],
   "source": [
    "from sklearn.metrics import confusion_matrix,accuracy_score,classification_report\n",
    "\n",
    "cfm=confusion_matrix(Y_test,Y_pred)\n",
    "print(cfm)\n",
    "\n",
    "print(\"Classification Report: \")\n",
    "print(classification_report(Y_test,Y_pred))\n",
    "\n",
    "acc=accuracy_score(Y_test,Y_pred)\n",
    "print(\"Accuracy of the model:\",acc)"
   ]
  },
  {
   "cell_type": "code",
   "execution_count": 44,
   "metadata": {
    "scrolled": true
   },
   "outputs": [
    {
     "name": "stdout",
     "output_type": "stream",
     "text": [
      "[[1.00000000e+00 6.36901559e-31]\n",
      " [9.00474395e-01 9.95256053e-02]\n",
      " [9.98512794e-01 1.48720595e-03]\n",
      " [9.44155718e-01 5.58442824e-02]\n",
      " [1.00000000e+00 3.30558492e-10]\n",
      " [9.99893133e-01 1.06866597e-04]\n",
      " [9.99789615e-01 2.10385272e-04]\n",
      " [9.96076303e-01 3.92369665e-03]\n",
      " [1.00000000e+00 3.08829781e-10]\n",
      " [9.99966779e-01 3.32214325e-05]\n",
      " [1.00000000e+00 1.24154295e-15]\n",
      " [9.99999420e-01 5.80083275e-07]\n",
      " [8.30728023e-01 1.69271977e-01]\n",
      " [9.99976862e-01 2.31377757e-05]\n",
      " [9.99999998e-01 1.73750975e-09]\n",
      " [5.06104744e-01 4.93895256e-01]\n",
      " [1.00000000e+00 1.77800802e-29]\n",
      " [9.99756617e-01 2.43382875e-04]\n",
      " [1.00000000e+00 2.52012009e-12]\n",
      " [9.99999631e-01 3.69090585e-07]\n",
      " [9.79386546e-01 2.06134535e-02]\n",
      " [1.00000000e+00 1.19238569e-16]\n",
      " [1.00000000e+00 3.50412829e-28]\n",
      " [1.00000000e+00 4.11837808e-22]\n",
      " [2.25099970e-01 7.74900030e-01]\n",
      " [3.39893960e-01 6.60106040e-01]\n",
      " [7.83058320e-01 2.16941680e-01]\n",
      " [3.74618528e-01 6.25381472e-01]\n",
      " [1.09448832e-01 8.90551168e-01]\n",
      " [1.42928077e-01 8.57071923e-01]\n",
      " [1.12802741e-01 8.87197259e-01]\n",
      " [3.02487521e-01 6.97512479e-01]\n",
      " [2.04903143e-01 7.95096857e-01]\n",
      " [2.65329663e-01 7.34670337e-01]\n",
      " [1.11961299e-01 8.88038701e-01]\n",
      " [2.48996232e-01 7.51003768e-01]\n",
      " [9.84520857e-02 9.01547914e-01]\n",
      " [1.20486420e-01 8.79513580e-01]\n",
      " [7.83244088e-02 9.21675591e-01]\n",
      " [2.01847048e-01 7.98152952e-01]\n",
      " [1.55235085e-01 8.44764915e-01]\n",
      " [2.16594764e-01 7.83405236e-01]\n",
      " [5.63996286e-02 9.43600371e-01]\n",
      " [3.04163571e-01 6.95836429e-01]\n",
      " [1.12633562e-01 8.87366438e-01]\n",
      " [2.76318456e-01 7.23681544e-01]\n",
      " [4.64667020e-02 9.53533298e-01]\n",
      " [8.64135996e-02 9.13586400e-01]\n",
      " [1.04055942e-01 8.95944058e-01]\n",
      " [1.58286206e-01 8.41713794e-01]\n",
      " [5.69071780e-02 9.43092822e-01]\n",
      " [7.87692154e-02 9.21230785e-01]\n",
      " [3.84895525e-02 9.61510447e-01]\n",
      " [1.07596960e-01 8.92403040e-01]\n",
      " [5.95694547e-01 4.04305453e-01]\n",
      " [1.16661684e-01 8.83338316e-01]\n",
      " [7.01816778e-01 2.98183222e-01]\n",
      " [2.98104510e-01 7.01895490e-01]\n",
      " [1.66078959e-01 8.33921041e-01]\n",
      " [1.11662553e-01 8.88337447e-01]\n",
      " [1.19303505e-01 8.80696495e-01]\n",
      " [1.21406360e-01 8.78593640e-01]\n",
      " [1.23038526e-01 8.76961474e-01]\n",
      " [1.26054447e-01 8.73945553e-01]\n",
      " [5.21708192e-02 9.47829181e-01]\n",
      " [1.20024966e-01 8.79975034e-01]\n",
      " [9.99999999e-01 6.98055919e-10]\n",
      " [1.23097525e-01 8.76902475e-01]\n",
      " [1.01975301e-01 8.98024699e-01]\n",
      " [1.24697048e-01 8.75302952e-01]\n",
      " [9.32805462e-02 9.06719454e-01]\n",
      " [1.92218621e-01 8.07781379e-01]\n",
      " [7.16517579e-01 2.83482421e-01]\n",
      " [4.95560637e-02 9.50443936e-01]\n",
      " [3.58431574e-01 6.41568426e-01]\n",
      " [1.87567022e-01 8.12432978e-01]\n",
      " [1.97383298e-01 8.02616702e-01]\n",
      " [2.57386189e-01 7.42613811e-01]\n",
      " [1.11777178e-01 8.88222822e-01]\n",
      " [1.21672126e-01 8.78327874e-01]\n",
      " [7.39395495e-02 9.26060451e-01]\n",
      " [6.37523080e-02 9.36247692e-01]\n",
      " [1.61087531e-01 8.38912469e-01]\n",
      " [5.78289662e-02 9.42171034e-01]\n",
      " [2.12928502e-01 7.87071498e-01]\n",
      " [1.85172962e-01 8.14827038e-01]\n",
      " [1.76261879e-01 8.23738121e-01]\n",
      " [3.46764030e-02 9.65323597e-01]\n",
      " [2.41144005e-01 7.58855995e-01]\n",
      " [1.21735282e-01 8.78264718e-01]\n",
      " [9.64210808e-02 9.03578919e-01]\n",
      " [9.96408051e-01 3.59194912e-03]\n",
      " [1.56636162e-01 8.43363838e-01]\n",
      " [1.19464699e-01 8.80535301e-01]\n",
      " [2.21184246e-01 7.78815754e-01]\n",
      " [2.17873723e-01 7.82126277e-01]\n",
      " [1.27876177e-01 8.72123823e-01]\n",
      " [7.13278025e-01 2.86721975e-01]\n",
      " [1.39345981e-01 8.60654019e-01]\n",
      " [3.41358665e-01 6.58641335e-01]\n",
      " [1.13347252e-01 8.86652748e-01]\n",
      " [1.11899394e-01 8.88100606e-01]\n",
      " [9.12742441e-02 9.08725756e-01]\n",
      " [2.36047414e-01 7.63952586e-01]\n",
      " [9.85574565e-02 9.01442543e-01]\n",
      " [3.81772983e-01 6.18227017e-01]\n",
      " [7.87738213e-02 9.21226179e-01]\n",
      " [6.39411319e-02 9.36058868e-01]]\n"
     ]
    }
   ],
   "source": [
    "y_pred_proba=classifier_logistic.predict_proba(X_test)\n",
    "print(y_pred_proba)"
   ]
  },
  {
   "cell_type": "code",
   "execution_count": 45,
   "metadata": {},
   "outputs": [
    {
     "name": "stdout",
     "output_type": "stream",
     "text": [
      "Errors at threshold  0.4 : 7  , type 2 error : 6  , type 1 error: 1\n",
      "Errors at threshold  0.41000000000000003 : 8  , type 2 error : 7  , type 1 error: 1\n",
      "Errors at threshold  0.42000000000000004 : 8  , type 2 error : 7  , type 1 error: 1\n",
      "Errors at threshold  0.43000000000000005 : 8  , type 2 error : 7  , type 1 error: 1\n",
      "Errors at threshold  0.44000000000000006 : 8  , type 2 error : 7  , type 1 error: 1\n",
      "Errors at threshold  0.45000000000000007 : 8  , type 2 error : 7  , type 1 error: 1\n",
      "Errors at threshold  0.4600000000000001 : 8  , type 2 error : 7  , type 1 error: 1\n",
      "Errors at threshold  0.4700000000000001 : 8  , type 2 error : 7  , type 1 error: 1\n",
      "Errors at threshold  0.4800000000000001 : 8  , type 2 error : 7  , type 1 error: 1\n",
      "Errors at threshold  0.4900000000000001 : 8  , type 2 error : 7  , type 1 error: 1\n",
      "Errors at threshold  0.5000000000000001 : 7  , type 2 error : 7  , type 1 error: 0\n",
      "Errors at threshold  0.5100000000000001 : 7  , type 2 error : 7  , type 1 error: 0\n",
      "Errors at threshold  0.5200000000000001 : 7  , type 2 error : 7  , type 1 error: 0\n",
      "Errors at threshold  0.5300000000000001 : 7  , type 2 error : 7  , type 1 error: 0\n",
      "Errors at threshold  0.5400000000000001 : 7  , type 2 error : 7  , type 1 error: 0\n",
      "Errors at threshold  0.5500000000000002 : 7  , type 2 error : 7  , type 1 error: 0\n",
      "Errors at threshold  0.5600000000000002 : 7  , type 2 error : 7  , type 1 error: 0\n",
      "Errors at threshold  0.5700000000000002 : 7  , type 2 error : 7  , type 1 error: 0\n",
      "Errors at threshold  0.5800000000000002 : 7  , type 2 error : 7  , type 1 error: 0\n",
      "Errors at threshold  0.5900000000000002 : 7  , type 2 error : 7  , type 1 error: 0\n",
      "Errors at threshold  0.6000000000000002 : 7  , type 2 error : 7  , type 1 error: 0\n"
     ]
    }
   ],
   "source": [
    "#Selecting threshold\n",
    "for a in np.arange(0.4,0.61,0.01):\n",
    "    predict_mine = np.where(y_pred_proba[:,1] > a, 1, 0)#like for loop if greater than threshold append 1 else append 0\n",
    "    cfm=confusion_matrix(Y_test, predict_mine)\n",
    "    total_err=cfm[0,1]+cfm[1,0]\n",
    "    print(\"Errors at threshold \", a, \":\",total_err, \" , type 2 error :\", \n",
    "          cfm[1,0],\" , type 1 error:\", cfm[0,1])"
   ]
  },
  {
   "cell_type": "code",
   "execution_count": 46,
   "metadata": {},
   "outputs": [
    {
     "name": "stdout",
     "output_type": "stream",
     "text": [
      "[0, 0, 0, 0, 0, 0, 0, 0, 0, 0, 0, 0, 0, 0, 0, 1, 0, 0, 0, 0, 0, 0, 0, 0, 1, 1, 0, 1, 1, 1, 1, 1, 1, 1, 1, 1, 1, 1, 1, 1, 1, 1, 1, 1, 1, 1, 1, 1, 1, 1, 1, 1, 1, 1, 1, 1, 0, 1, 1, 1, 1, 1, 1, 1, 1, 1, 0, 1, 1, 1, 1, 1, 0, 1, 1, 1, 1, 1, 1, 1, 1, 1, 1, 1, 1, 1, 1, 1, 1, 1, 1, 0, 1, 1, 1, 1, 1, 0, 1, 1, 1, 1, 1, 1, 1, 1, 1, 1]\n"
     ]
    }
   ],
   "source": [
    "#setting threshold to reduce type2 error\n",
    "y_pred_class=[]\n",
    "for values in y_pred_proba[:,1]:\n",
    "    if values>0.4:\n",
    "        y_pred_class.append(1)\n",
    "    else:\n",
    "        y_pred_class.append(0)\n",
    "print(y_pred_class)"
   ]
  },
  {
   "cell_type": "code",
   "execution_count": 47,
   "metadata": {},
   "outputs": [
    {
     "name": "stdout",
     "output_type": "stream",
     "text": [
      "[[23  1]\n",
      " [ 6 78]]\n",
      "Classification Report: \n",
      "              precision    recall  f1-score   support\n",
      "\n",
      "           0       0.79      0.96      0.87        24\n",
      "           1       0.99      0.93      0.96        84\n",
      "\n",
      "    accuracy                           0.94       108\n",
      "   macro avg       0.89      0.94      0.91       108\n",
      "weighted avg       0.94      0.94      0.94       108\n",
      "\n",
      "Accuracy of the model: 0.9351851851851852\n"
     ]
    }
   ],
   "source": [
    "from sklearn.metrics import confusion_matrix,accuracy_score,classification_report\n",
    "\n",
    "cfm=confusion_matrix(Y_test,y_pred_class)\n",
    "print(cfm)\n",
    "\n",
    "print(\"Classification Report: \")\n",
    "print(classification_report(Y_test,y_pred_class))\n",
    "\n",
    "acc=accuracy_score(Y_test,y_pred_class)\n",
    "print(\"Accuracy of the model:\",acc)"
   ]
  },
  {
   "cell_type": "code",
   "execution_count": null,
   "metadata": {},
   "outputs": [],
   "source": []
  },
  {
   "cell_type": "code",
   "execution_count": 48,
   "metadata": {},
   "outputs": [],
   "source": [
    "#Kneighbors \n",
    "from sklearn.neighbors import KNeighborsClassifier\n",
    "classifier_kneighbors=KNeighborsClassifier()\n",
    "\n"
   ]
  },
  {
   "cell_type": "code",
   "execution_count": 49,
   "metadata": {},
   "outputs": [],
   "source": [
    "params={ \"n_neighbors\" : list(range(2,13,1)),\n",
    "        \"leaf_size\":list(range(1,30)),\n",
    "        \"p\":[1,2],\n",
    "        \"metric\":['euclidean', 'manhattan', 'minkowski'],\n",
    "        \"weights\":['uniform', 'distance']\n",
    "}"
   ]
  },
  {
   "cell_type": "code",
   "execution_count": 50,
   "metadata": {},
   "outputs": [],
   "source": [
    "from sklearn.model_selection import RandomizedSearchCV\n",
    "random_search=RandomizedSearchCV(classifier_kneighbors,param_distributions=params,n_iter=5,scoring=\"roc_auc\",\n",
    "                                 n_jobs=-1,cv=5,verbose=3)"
   ]
  },
  {
   "cell_type": "code",
   "execution_count": 51,
   "metadata": {},
   "outputs": [
    {
     "name": "stdout",
     "output_type": "stream",
     "text": [
      "Fitting 5 folds for each of 5 candidates, totalling 25 fits\n"
     ]
    },
    {
     "name": "stderr",
     "output_type": "stream",
     "text": [
      "[Parallel(n_jobs=-1)]: Using backend LokyBackend with 4 concurrent workers.\n",
      "[Parallel(n_jobs=-1)]: Done  18 out of  25 | elapsed:    0.2s remaining:    0.0s\n",
      "[Parallel(n_jobs=-1)]: Done  25 out of  25 | elapsed:    0.2s finished\n"
     ]
    },
    {
     "data": {
      "text/plain": [
       "RandomizedSearchCV(cv=5, estimator=KNeighborsClassifier(), n_iter=5, n_jobs=-1,\n",
       "                   param_distributions={'leaf_size': [1, 2, 3, 4, 5, 6, 7, 8, 9,\n",
       "                                                      10, 11, 12, 13, 14, 15,\n",
       "                                                      16, 17, 18, 19, 20, 21,\n",
       "                                                      22, 23, 24, 25, 26, 27,\n",
       "                                                      28, 29],\n",
       "                                        'metric': ['euclidean', 'manhattan',\n",
       "                                                   'minkowski'],\n",
       "                                        'n_neighbors': [2, 3, 4, 5, 6, 7, 8, 9,\n",
       "                                                        10, 11, 12],\n",
       "                                        'p': [1, 2],\n",
       "                                        'weights': ['uniform', 'distance']},\n",
       "                   scoring='roc_auc', verbose=3)"
      ]
     },
     "execution_count": 51,
     "metadata": {},
     "output_type": "execute_result"
    }
   ],
   "source": [
    "random_search.fit(X_resampled,Y_resampled)"
   ]
  },
  {
   "cell_type": "code",
   "execution_count": 52,
   "metadata": {},
   "outputs": [
    {
     "data": {
      "text/plain": [
       "KNeighborsClassifier(leaf_size=1, n_neighbors=3, p=1)"
      ]
     },
     "execution_count": 52,
     "metadata": {},
     "output_type": "execute_result"
    }
   ],
   "source": [
    "random_search.best_estimator_"
   ]
  },
  {
   "cell_type": "code",
   "execution_count": 53,
   "metadata": {},
   "outputs": [
    {
     "data": {
      "text/plain": [
       "{'weights': 'uniform',\n",
       " 'p': 1,\n",
       " 'n_neighbors': 3,\n",
       " 'metric': 'minkowski',\n",
       " 'leaf_size': 1}"
      ]
     },
     "execution_count": 53,
     "metadata": {},
     "output_type": "execute_result"
    }
   ],
   "source": [
    "random_search.best_params_"
   ]
  },
  {
   "cell_type": "code",
   "execution_count": 54,
   "metadata": {},
   "outputs": [
    {
     "name": "stdout",
     "output_type": "stream",
     "text": [
      "[(0, 0), (0, 0), (0, 0), (0, 1), (0, 0), (0, 0), (0, 0), (0, 0), (0, 0), (0, 0), (0, 0), (0, 0), (0, 0), (0, 0), (0, 0), (0, 1), (0, 0), (0, 0), (0, 0), (0, 0), (0, 0), (0, 0), (0, 0), (0, 0), (1, 1), (1, 1), (1, 0), (1, 1), (1, 1), (1, 1), (1, 1), (1, 1), (1, 1), (1, 1), (1, 1), (1, 1), (1, 1), (1, 1), (1, 1), (1, 1), (1, 1), (1, 1), (1, 1), (1, 1), (1, 1), (1, 1), (1, 1), (1, 1), (1, 1), (1, 1), (1, 1), (1, 1), (1, 1), (1, 1), (1, 1), (1, 1), (1, 1), (1, 1), (1, 1), (1, 1), (1, 1), (1, 1), (1, 1), (1, 1), (1, 1), (1, 1), (1, 0), (1, 1), (1, 1), (1, 1), (1, 1), (1, 1), (1, 1), (1, 1), (1, 1), (1, 1), (1, 1), (1, 1), (1, 1), (1, 1), (1, 1), (1, 1), (1, 1), (1, 1), (1, 1), (1, 1), (1, 1), (1, 1), (1, 0), (1, 1), (1, 1), (1, 0), (1, 1), (1, 1), (1, 0), (1, 1), (1, 1), (1, 1), (1, 1), (1, 1), (1, 1), (1, 1), (1, 1), (1, 1), (1, 1), (1, 0), (1, 1), (1, 1)]\n"
     ]
    }
   ],
   "source": [
    "from sklearn.neighbors import KNeighborsClassifier\n",
    "classifier_kneighbors=KNeighborsClassifier(leaf_size=14, n_neighbors=10, p=1, weights='distance')\n",
    "\n",
    "#fit the model on the data and predict the values\n",
    "classifier_kneighbors.fit(X_resampled,Y_resampled)\n",
    "\n",
    "Y_pred= classifier_kneighbors.predict(X_test)\n",
    "print(list(zip(Y_test,Y_pred)))"
   ]
  },
  {
   "cell_type": "code",
   "execution_count": 55,
   "metadata": {},
   "outputs": [
    {
     "name": "stdout",
     "output_type": "stream",
     "text": [
      "[[22  2]\n",
      " [ 6 78]]\n",
      "Classification Report: \n",
      "              precision    recall  f1-score   support\n",
      "\n",
      "           0       0.79      0.92      0.85        24\n",
      "           1       0.97      0.93      0.95        84\n",
      "\n",
      "    accuracy                           0.93       108\n",
      "   macro avg       0.88      0.92      0.90       108\n",
      "weighted avg       0.93      0.93      0.93       108\n",
      "\n",
      "Accuracy of the model: 0.9259259259259259\n"
     ]
    }
   ],
   "source": [
    "from sklearn.metrics import confusion_matrix,accuracy_score,classification_report\n",
    "\n",
    "cfm=confusion_matrix(Y_test,Y_pred)\n",
    "print(cfm)\n",
    "\n",
    "print(\"Classification Report: \")\n",
    "print(classification_report(Y_test,Y_pred))\n",
    "\n",
    "acc=accuracy_score(Y_test,Y_pred)\n",
    "print(\"Accuracy of the model:\",acc)"
   ]
  },
  {
   "cell_type": "code",
   "execution_count": null,
   "metadata": {},
   "outputs": [],
   "source": []
  },
  {
   "cell_type": "code",
   "execution_count": 56,
   "metadata": {},
   "outputs": [],
   "source": [
    "#Support vector machine\n",
    "from sklearn.svm import SVC\n",
    "classifier_SVC=SVC()"
   ]
  },
  {
   "cell_type": "code",
   "execution_count": 57,
   "metadata": {},
   "outputs": [],
   "source": [
    "params={\n",
    "    'kernel':['linear', 'poly', 'rbf', 'sigmoid'],\n",
    "    \"C\":[100, 10, 1.0, 0.1, 0.001]\n",
    "        \n",
    "        }"
   ]
  },
  {
   "cell_type": "code",
   "execution_count": 58,
   "metadata": {},
   "outputs": [],
   "source": [
    "from sklearn.model_selection import RandomizedSearchCV\n",
    "random_search=RandomizedSearchCV(classifier_SVC,param_distributions=params,n_iter=5,scoring=\"roc_auc\",n_jobs=-1,cv=5,verbose=3)"
   ]
  },
  {
   "cell_type": "code",
   "execution_count": 59,
   "metadata": {},
   "outputs": [
    {
     "name": "stdout",
     "output_type": "stream",
     "text": [
      "Fitting 5 folds for each of 5 candidates, totalling 25 fits\n"
     ]
    },
    {
     "name": "stderr",
     "output_type": "stream",
     "text": [
      "[Parallel(n_jobs=-1)]: Using backend LokyBackend with 4 concurrent workers.\n",
      "[Parallel(n_jobs=-1)]: Done  18 out of  25 | elapsed:    0.1s remaining:    0.0s\n",
      "[Parallel(n_jobs=-1)]: Done  25 out of  25 | elapsed:    0.1s finished\n"
     ]
    },
    {
     "data": {
      "text/plain": [
       "RandomizedSearchCV(cv=5, estimator=SVC(), n_iter=5, n_jobs=-1,\n",
       "                   param_distributions={'C': [100, 10, 1.0, 0.1, 0.001],\n",
       "                                        'kernel': ['linear', 'poly', 'rbf',\n",
       "                                                   'sigmoid']},\n",
       "                   scoring='roc_auc', verbose=3)"
      ]
     },
     "execution_count": 59,
     "metadata": {},
     "output_type": "execute_result"
    }
   ],
   "source": [
    "random_search.fit(X_resampled,Y_resampled)"
   ]
  },
  {
   "cell_type": "code",
   "execution_count": 60,
   "metadata": {},
   "outputs": [
    {
     "data": {
      "text/plain": [
       "SVC(C=0.1)"
      ]
     },
     "execution_count": 60,
     "metadata": {},
     "output_type": "execute_result"
    }
   ],
   "source": [
    "random_search.best_estimator_"
   ]
  },
  {
   "cell_type": "code",
   "execution_count": 61,
   "metadata": {},
   "outputs": [],
   "source": [
    "from sklearn.svm import SVC\n",
    "classifier_SVC=SVC(C=0.4, kernel='rbf')\n",
    "classifier_SVC.fit(X_resampled,Y_resampled)\n",
    "Y_pred=classifier_SVC.predict(X_test)\n"
   ]
  },
  {
   "cell_type": "code",
   "execution_count": 62,
   "metadata": {},
   "outputs": [
    {
     "name": "stdout",
     "output_type": "stream",
     "text": [
      "[[19  5]\n",
      " [ 2 82]]\n",
      "Classification Report: \n",
      "              precision    recall  f1-score   support\n",
      "\n",
      "           0       0.90      0.79      0.84        24\n",
      "           1       0.94      0.98      0.96        84\n",
      "\n",
      "    accuracy                           0.94       108\n",
      "   macro avg       0.92      0.88      0.90       108\n",
      "weighted avg       0.93      0.94      0.93       108\n",
      "\n",
      "Accuracy of the model: 0.9351851851851852\n"
     ]
    }
   ],
   "source": [
    "from sklearn.metrics import confusion_matrix,accuracy_score,classification_report\n",
    "\n",
    "cfm=confusion_matrix(Y_test,Y_pred)\n",
    "print(cfm)\n",
    "\n",
    "print(\"Classification Report: \")\n",
    "print(classification_report(Y_test,Y_pred))\n",
    "\n",
    "acc=accuracy_score(Y_test,Y_pred)\n",
    "print(\"Accuracy of the model:\",acc)"
   ]
  },
  {
   "cell_type": "code",
   "execution_count": null,
   "metadata": {},
   "outputs": [],
   "source": []
  },
  {
   "cell_type": "code",
   "execution_count": 63,
   "metadata": {},
   "outputs": [],
   "source": [
    "#Random forest\n",
    "from sklearn.ensemble import RandomForestClassifier\n",
    "\n",
    "classifier_RandomForest=RandomForestClassifier()\n",
    "\n"
   ]
  },
  {
   "cell_type": "code",
   "execution_count": 64,
   "metadata": {},
   "outputs": [],
   "source": [
    "params={\n",
    " \"criterion\":[\"gini\", \"entropy\"],\n",
    " 'bootstrap': [True, False],\n",
    " 'max_depth': [10, 20, 30, 40, 50, 60, 70, 80, 90, 100, None],\n",
    " 'max_features': ['auto', 'sqrt',\"log2\"],\n",
    " 'min_samples_leaf': [1, 2, 4,6,8],\n",
    " 'min_samples_split': [2, 5, 10,3,7],\n",
    " 'n_estimators': [20,40,60,80,100,200, 400, 600, 800, 1000, 1200, 1400, 1600, 1800, 2000],\n",
    " \n",
    "}"
   ]
  },
  {
   "cell_type": "code",
   "execution_count": 65,
   "metadata": {},
   "outputs": [],
   "source": [
    "from sklearn.model_selection import RandomizedSearchCV\n",
    "random_search=RandomizedSearchCV(classifier_RandomForest,param_distributions=params,n_iter=5,scoring=\"roc_auc\",n_jobs=-1,cv=5,verbose=3)"
   ]
  },
  {
   "cell_type": "code",
   "execution_count": 66,
   "metadata": {},
   "outputs": [
    {
     "name": "stdout",
     "output_type": "stream",
     "text": [
      "Fitting 5 folds for each of 5 candidates, totalling 25 fits\n"
     ]
    },
    {
     "name": "stderr",
     "output_type": "stream",
     "text": [
      "[Parallel(n_jobs=-1)]: Using backend LokyBackend with 4 concurrent workers.\n",
      "[Parallel(n_jobs=-1)]: Done  25 out of  25 | elapsed:   30.7s finished\n"
     ]
    },
    {
     "data": {
      "text/plain": [
       "RandomizedSearchCV(cv=5, estimator=RandomForestClassifier(), n_iter=5,\n",
       "                   n_jobs=-1,\n",
       "                   param_distributions={'bootstrap': [True, False],\n",
       "                                        'criterion': ['gini', 'entropy'],\n",
       "                                        'max_depth': [10, 20, 30, 40, 50, 60,\n",
       "                                                      70, 80, 90, 100, None],\n",
       "                                        'max_features': ['auto', 'sqrt',\n",
       "                                                         'log2'],\n",
       "                                        'min_samples_leaf': [1, 2, 4, 6, 8],\n",
       "                                        'min_samples_split': [2, 5, 10, 3, 7],\n",
       "                                        'n_estimators': [20, 40, 60, 80, 100,\n",
       "                                                         200, 400, 600, 800,\n",
       "                                                         1000, 1200, 1400, 1600,\n",
       "                                                         1800, 2000]},\n",
       "                   scoring='roc_auc', verbose=3)"
      ]
     },
     "execution_count": 66,
     "metadata": {},
     "output_type": "execute_result"
    }
   ],
   "source": [
    "random_search.fit(X_resampled,Y_resampled)"
   ]
  },
  {
   "cell_type": "code",
   "execution_count": 67,
   "metadata": {},
   "outputs": [
    {
     "name": "stdout",
     "output_type": "stream",
     "text": [
      "RandomForestClassifier(criterion='entropy', max_features='log2',\n",
      "                       min_samples_leaf=4, n_estimators=20)\n"
     ]
    }
   ],
   "source": [
    "print(random_search.best_estimator_)"
   ]
  },
  {
   "cell_type": "code",
   "execution_count": 68,
   "metadata": {},
   "outputs": [
    {
     "data": {
      "text/plain": [
       "{'n_estimators': 20,\n",
       " 'min_samples_split': 2,\n",
       " 'min_samples_leaf': 4,\n",
       " 'max_features': 'log2',\n",
       " 'max_depth': None,\n",
       " 'criterion': 'entropy',\n",
       " 'bootstrap': True}"
      ]
     },
     "execution_count": 68,
     "metadata": {},
     "output_type": "execute_result"
    }
   ],
   "source": [
    "random_search.best_params_"
   ]
  },
  {
   "cell_type": "code",
   "execution_count": 69,
   "metadata": {},
   "outputs": [],
   "source": [
    "from sklearn.ensemble import RandomForestClassifier\n",
    "\n",
    "classifier_RandomForest=RandomForestClassifier(bootstrap=False, criterion='entropy',\n",
    "                       max_features='sqrt', n_estimators=400)\n",
    "                       \n",
    "\n",
    "classifier_RandomForest.fit(X_resampled,Y_resampled)\n",
    "\n",
    "Y_pred=classifier_RandomForest.predict(X_test)"
   ]
  },
  {
   "cell_type": "code",
   "execution_count": 70,
   "metadata": {},
   "outputs": [
    {
     "name": "stdout",
     "output_type": "stream",
     "text": [
      "[[24  0]\n",
      " [16 68]]\n",
      "Classification Report: \n",
      "              precision    recall  f1-score   support\n",
      "\n",
      "           0       0.60      1.00      0.75        24\n",
      "           1       1.00      0.81      0.89        84\n",
      "\n",
      "    accuracy                           0.85       108\n",
      "   macro avg       0.80      0.90      0.82       108\n",
      "weighted avg       0.91      0.85      0.86       108\n",
      "\n",
      "Accuracy of the model: 0.8518518518518519\n"
     ]
    }
   ],
   "source": [
    "from sklearn.metrics import confusion_matrix,accuracy_score,classification_report\n",
    "\n",
    "cfm=confusion_matrix(Y_test,Y_pred)\n",
    "print(cfm)\n",
    "\n",
    "print(\"Classification Report: \")\n",
    "print(classification_report(Y_test,Y_pred))\n",
    "\n",
    "acc=accuracy_score(Y_test,Y_pred)\n",
    "print(\"Accuracy of the model:\",acc)"
   ]
  },
  {
   "cell_type": "code",
   "execution_count": null,
   "metadata": {},
   "outputs": [],
   "source": []
  },
  {
   "cell_type": "code",
   "execution_count": 71,
   "metadata": {},
   "outputs": [],
   "source": [
    "#Xgboost\n",
    "from xgboost import XGBClassifier\n",
    "classifier_Xgboost=XGBClassifier()\n"
   ]
  },
  {
   "cell_type": "code",
   "execution_count": 72,
   "metadata": {},
   "outputs": [],
   "source": [
    "params={\n",
    " \"learning_rate\"    : [0.05, 0.10, 0.15, 0.20, 0.25, 0.30 ] ,\n",
    " \"max_depth\"        : [ 3, 4, 5, 6, 8, 10, 12, 15],\n",
    " \"min_child_weight\" : [ 1, 3, 5, 7 ],\n",
    " \"gamma\"            : [ 0.0, 0.1, 0.2 , 0.3, 0.4 ],\n",
    " \"colsample_bytree\" : [ 0.3, 0.4, 0.5 , 0.7 ]\n",
    "  \n",
    "    \n",
    "}"
   ]
  },
  {
   "cell_type": "code",
   "execution_count": 73,
   "metadata": {},
   "outputs": [],
   "source": [
    "from sklearn.model_selection import RandomizedSearchCV\n",
    "random_search=RandomizedSearchCV(classifier_Xgboost,param_distributions=params,n_iter=5,scoring=\"roc_auc\",\n",
    "                                 n_jobs=-1,cv=5,verbose=3)"
   ]
  },
  {
   "cell_type": "code",
   "execution_count": 74,
   "metadata": {},
   "outputs": [
    {
     "name": "stdout",
     "output_type": "stream",
     "text": [
      "Fitting 5 folds for each of 5 candidates, totalling 25 fits\n"
     ]
    },
    {
     "name": "stderr",
     "output_type": "stream",
     "text": [
      "[Parallel(n_jobs=-1)]: Using backend LokyBackend with 4 concurrent workers.\n",
      "[Parallel(n_jobs=-1)]: Done  25 out of  25 | elapsed:    2.4s finished\n",
      "C:\\Users\\Admin\\anaconda3\\lib\\site-packages\\xgboost\\sklearn.py:888: UserWarning:\n",
      "\n",
      "The use of label encoder in XGBClassifier is deprecated and will be removed in a future release. To remove this warning, do the following: 1) Pass option use_label_encoder=False when constructing XGBClassifier object; and 2) Encode your labels (y) as integers starting with 0, i.e. 0, 1, 2, ..., [num_class - 1].\n",
      "\n"
     ]
    },
    {
     "name": "stdout",
     "output_type": "stream",
     "text": [
      "[14:03:27] WARNING: C:/Users/Administrator/workspace/xgboost-win64_release_1.3.0/src/learner.cc:1061: Starting in XGBoost 1.3.0, the default evaluation metric used with the objective 'binary:logistic' was changed from 'error' to 'logloss'. Explicitly set eval_metric if you'd like to restore the old behavior.\n"
     ]
    },
    {
     "data": {
      "text/plain": [
       "RandomizedSearchCV(cv=5,\n",
       "                   estimator=XGBClassifier(base_score=None, booster=None,\n",
       "                                           colsample_bylevel=None,\n",
       "                                           colsample_bynode=None,\n",
       "                                           colsample_bytree=None, gamma=None,\n",
       "                                           gpu_id=None, importance_type='gain',\n",
       "                                           interaction_constraints=None,\n",
       "                                           learning_rate=None,\n",
       "                                           max_delta_step=None, max_depth=None,\n",
       "                                           min_child_weight=None, missing=nan,\n",
       "                                           monotone_constraints=None,\n",
       "                                           n_estimators=100,...\n",
       "                                           reg_lambda=None,\n",
       "                                           scale_pos_weight=None,\n",
       "                                           subsample=None, tree_method=None,\n",
       "                                           validate_parameters=None,\n",
       "                                           verbosity=None),\n",
       "                   n_iter=5, n_jobs=-1,\n",
       "                   param_distributions={'colsample_bytree': [0.3, 0.4, 0.5,\n",
       "                                                             0.7],\n",
       "                                        'gamma': [0.0, 0.1, 0.2, 0.3, 0.4],\n",
       "                                        'learning_rate': [0.05, 0.1, 0.15, 0.2,\n",
       "                                                          0.25, 0.3],\n",
       "                                        'max_depth': [3, 4, 5, 6, 8, 10, 12,\n",
       "                                                      15],\n",
       "                                        'min_child_weight': [1, 3, 5, 7]},\n",
       "                   scoring='roc_auc', verbose=3)"
      ]
     },
     "execution_count": 74,
     "metadata": {},
     "output_type": "execute_result"
    }
   ],
   "source": [
    "random_search.fit(X_resampled,Y_resampled)"
   ]
  },
  {
   "cell_type": "code",
   "execution_count": 75,
   "metadata": {},
   "outputs": [
    {
     "data": {
      "text/plain": [
       "XGBClassifier(base_score=0.5, booster='gbtree', colsample_bylevel=1,\n",
       "              colsample_bynode=1, colsample_bytree=0.5, gamma=0.1, gpu_id=-1,\n",
       "              importance_type='gain', interaction_constraints='',\n",
       "              learning_rate=0.1, max_delta_step=0, max_depth=8,\n",
       "              min_child_weight=3, missing=nan, monotone_constraints='()',\n",
       "              n_estimators=100, n_jobs=4, num_parallel_tree=1, random_state=0,\n",
       "              reg_alpha=0, reg_lambda=1, scale_pos_weight=1, subsample=1,\n",
       "              tree_method='exact', validate_parameters=1, verbosity=None)"
      ]
     },
     "execution_count": 75,
     "metadata": {},
     "output_type": "execute_result"
    }
   ],
   "source": [
    "random_search.best_estimator_"
   ]
  },
  {
   "cell_type": "code",
   "execution_count": 76,
   "metadata": {},
   "outputs": [
    {
     "data": {
      "text/plain": [
       "{'min_child_weight': 3,\n",
       " 'max_depth': 8,\n",
       " 'learning_rate': 0.1,\n",
       " 'gamma': 0.1,\n",
       " 'colsample_bytree': 0.5}"
      ]
     },
     "execution_count": 76,
     "metadata": {},
     "output_type": "execute_result"
    }
   ],
   "source": [
    "random_search.best_params_"
   ]
  },
  {
   "cell_type": "code",
   "execution_count": 77,
   "metadata": {},
   "outputs": [
    {
     "name": "stdout",
     "output_type": "stream",
     "text": [
      "[14:03:28] WARNING: C:/Users/Administrator/workspace/xgboost-win64_release_1.3.0/src/learner.cc:1061: Starting in XGBoost 1.3.0, the default evaluation metric used with the objective 'binary:logistic' was changed from 'error' to 'logloss'. Explicitly set eval_metric if you'd like to restore the old behavior.\n"
     ]
    }
   ],
   "source": [
    "from xgboost import XGBClassifier\n",
    "classifier_Xgboost=XGBClassifier(base_score=0.5, booster='gbtree', colsample_bylevel=1,\n",
    "              colsample_bynode=1, colsample_bytree=0.5, gamma=0.2, gpu_id=-1,\n",
    "              importance_type='gain', interaction_constraints='',\n",
    "              learning_rate=0.1, max_delta_step=0, max_depth=10,\n",
    "              min_child_weight=3,\n",
    "              n_estimators=100, n_jobs=4, num_parallel_tree=1, random_state=0,\n",
    "              reg_alpha=0, reg_lambda=1, scale_pos_weight=1, subsample=1,\n",
    "              tree_method='exact', validate_parameters=1, verbosity=None)\n",
    "classifier_Xgboost.fit(X_resampled,Y_resampled)\n",
    "Y_pred=classifier_Xgboost.predict(X_test)"
   ]
  },
  {
   "cell_type": "code",
   "execution_count": 78,
   "metadata": {},
   "outputs": [
    {
     "name": "stdout",
     "output_type": "stream",
     "text": [
      "[[24  0]\n",
      " [21 63]]\n",
      "Classification Report: \n",
      "              precision    recall  f1-score   support\n",
      "\n",
      "           0       0.53      1.00      0.70        24\n",
      "           1       1.00      0.75      0.86        84\n",
      "\n",
      "    accuracy                           0.81       108\n",
      "   macro avg       0.77      0.88      0.78       108\n",
      "weighted avg       0.90      0.81      0.82       108\n",
      "\n",
      "Accuracy of the model: 0.8055555555555556\n"
     ]
    }
   ],
   "source": [
    "from sklearn.metrics import confusion_matrix,accuracy_score,classification_report\n",
    "\n",
    "cfm=confusion_matrix(Y_test,Y_pred)\n",
    "print(cfm)\n",
    "\n",
    "print(\"Classification Report: \")\n",
    "print(classification_report(Y_test,Y_pred))\n",
    "\n",
    "acc=accuracy_score(Y_test,Y_pred)\n",
    "print(\"Accuracy of the model:\",acc)"
   ]
  },
  {
   "cell_type": "code",
   "execution_count": null,
   "metadata": {},
   "outputs": [],
   "source": [
    "\n",
    "  "
   ]
  },
  {
   "cell_type": "code",
   "execution_count": 79,
   "metadata": {},
   "outputs": [],
   "source": [
    "#Decision tree\n",
    "from sklearn.tree import DecisionTreeClassifier\n",
    "\n",
    "classifier_Decisiontree=DecisionTreeClassifier()"
   ]
  },
  {
   "cell_type": "code",
   "execution_count": 80,
   "metadata": {},
   "outputs": [],
   "source": [
    "params={\n",
    "    \"criterion\":[\"gini\", \"entropy\"],\n",
    "    \"splitter\":[\"best\", \"random\"],\n",
    "    \"max_depth\":np.arange(1,32,1),\n",
    "    \"random_state\":np.arange(1,100,1)\n",
    "}"
   ]
  },
  {
   "cell_type": "code",
   "execution_count": 81,
   "metadata": {},
   "outputs": [],
   "source": [
    "from sklearn.model_selection import RandomizedSearchCV\n",
    "random_search=RandomizedSearchCV(classifier_Decisiontree,param_distributions=params,n_iter=5,scoring=\"roc_auc\",n_jobs=-1,cv=5,verbose=3)"
   ]
  },
  {
   "cell_type": "code",
   "execution_count": 82,
   "metadata": {},
   "outputs": [
    {
     "name": "stdout",
     "output_type": "stream",
     "text": [
      "Fitting 5 folds for each of 5 candidates, totalling 25 fits\n"
     ]
    },
    {
     "name": "stderr",
     "output_type": "stream",
     "text": [
      "[Parallel(n_jobs=-1)]: Using backend LokyBackend with 4 concurrent workers.\n",
      "[Parallel(n_jobs=-1)]: Done  18 out of  25 | elapsed:    0.1s remaining:    0.0s\n",
      "[Parallel(n_jobs=-1)]: Done  25 out of  25 | elapsed:    0.1s finished\n"
     ]
    },
    {
     "data": {
      "text/plain": [
       "RandomizedSearchCV(cv=5, estimator=DecisionTreeClassifier(), n_iter=5,\n",
       "                   n_jobs=-1,\n",
       "                   param_distributions={'criterion': ['gini', 'entropy'],\n",
       "                                        'max_depth': array([ 1,  2,  3,  4,  5,  6,  7,  8,  9, 10, 11, 12, 13, 14, 15, 16, 17,\n",
       "       18, 19, 20, 21, 22, 23, 24, 25, 26, 27, 28, 29, 30, 31]),\n",
       "                                        'random_state': array([ 1,  2,  3,  4,  5,  6,  7,  8,  9, 10, 11, 12, 13, 14, 15, 16, 17,\n",
       "       18, 19, 20, 21, 22, 23, 24, 25, 26, 27, 28, 29, 30, 31, 32, 33, 34,\n",
       "       35, 36, 37, 38, 39, 40, 41, 42, 43, 44, 45, 46, 47, 48, 49, 50, 51,\n",
       "       52, 53, 54, 55, 56, 57, 58, 59, 60, 61, 62, 63, 64, 65, 66, 67, 68,\n",
       "       69, 70, 71, 72, 73, 74, 75, 76, 77, 78, 79, 80, 81, 82, 83, 84, 85,\n",
       "       86, 87, 88, 89, 90, 91, 92, 93, 94, 95, 96, 97, 98, 99]),\n",
       "                                        'splitter': ['best', 'random']},\n",
       "                   scoring='roc_auc', verbose=3)"
      ]
     },
     "execution_count": 82,
     "metadata": {},
     "output_type": "execute_result"
    }
   ],
   "source": [
    "random_search.fit(X_resampled,Y_resampled)"
   ]
  },
  {
   "cell_type": "code",
   "execution_count": 83,
   "metadata": {},
   "outputs": [
    {
     "data": {
      "text/plain": [
       "DecisionTreeClassifier(max_depth=17, random_state=84)"
      ]
     },
     "execution_count": 83,
     "metadata": {},
     "output_type": "execute_result"
    }
   ],
   "source": [
    "random_search.best_estimator_"
   ]
  },
  {
   "cell_type": "code",
   "execution_count": 84,
   "metadata": {},
   "outputs": [],
   "source": [
    "#predicting using Decision_Tree_Classifier\n",
    "from sklearn.tree import DecisionTreeClassifier\n",
    "\n",
    "classifier_Decisiontree=DecisionTreeClassifier(criterion='entropy', max_depth=3, random_state=92)\n",
    "\n",
    "#fit the model on the data and predict the values\n",
    "classifier_Decisiontree.fit(X_resampled,Y_resampled)\n",
    "Y_pred=classifier_Decisiontree.predict(X_test)"
   ]
  },
  {
   "cell_type": "code",
   "execution_count": 85,
   "metadata": {},
   "outputs": [
    {
     "name": "stdout",
     "output_type": "stream",
     "text": [
      "[[22  2]\n",
      " [ 6 78]]\n",
      "Classification Report: \n",
      "              precision    recall  f1-score   support\n",
      "\n",
      "           0       0.79      0.92      0.85        24\n",
      "           1       0.97      0.93      0.95        84\n",
      "\n",
      "    accuracy                           0.93       108\n",
      "   macro avg       0.88      0.92      0.90       108\n",
      "weighted avg       0.93      0.93      0.93       108\n",
      "\n",
      "Accuracy of the model: 0.9259259259259259\n"
     ]
    }
   ],
   "source": [
    "from sklearn.metrics import confusion_matrix,accuracy_score,classification_report\n",
    "\n",
    "cfm=confusion_matrix(Y_test,Y_pred)\n",
    "print(cfm)\n",
    "\n",
    "print(\"Classification Report: \")\n",
    "print(classification_report(Y_test,Y_pred))\n",
    "\n",
    "acc=accuracy_score(Y_test,Y_pred)\n",
    "print(\"Accuracy of the model:\",acc)"
   ]
  },
  {
   "cell_type": "code",
   "execution_count": null,
   "metadata": {},
   "outputs": [],
   "source": []
  },
  {
   "cell_type": "code",
   "execution_count": 86,
   "metadata": {},
   "outputs": [],
   "source": [
    "#SGD\n",
    "from sklearn.linear_model import SGDClassifier\n",
    "#create a model\n",
    "classifier_SGD=SGDClassifier()"
   ]
  },
  {
   "cell_type": "code",
   "execution_count": 87,
   "metadata": {},
   "outputs": [],
   "source": [
    "params={ 'alpha': [1e-4, 1e-3, 1e-2, 1e-1, 1e0, 1e1, 1e2, 1e3], \n",
    "    'loss': ['hinge', 'log', 'modified_huber','squared_hinge', 'perceptron'], \n",
    "    'penalty': [\"l1\",'l2'],\n",
    "    \"random_state\": np.arange(0,100,1)}"
   ]
  },
  {
   "cell_type": "code",
   "execution_count": 88,
   "metadata": {},
   "outputs": [],
   "source": [
    "from sklearn.model_selection import RandomizedSearchCV\n",
    "random_search=RandomizedSearchCV(classifier_SGD,param_distributions=params,n_iter=5,scoring=\"roc_auc\",n_jobs=-1,cv=5,verbose=3)"
   ]
  },
  {
   "cell_type": "code",
   "execution_count": 89,
   "metadata": {},
   "outputs": [
    {
     "name": "stderr",
     "output_type": "stream",
     "text": [
      "[Parallel(n_jobs=-1)]: Using backend LokyBackend with 4 concurrent workers.\n"
     ]
    },
    {
     "name": "stdout",
     "output_type": "stream",
     "text": [
      "Fitting 5 folds for each of 5 candidates, totalling 25 fits\n"
     ]
    },
    {
     "name": "stderr",
     "output_type": "stream",
     "text": [
      "[Parallel(n_jobs=-1)]: Done  18 out of  25 | elapsed:    0.2s remaining:    0.0s\n",
      "[Parallel(n_jobs=-1)]: Done  25 out of  25 | elapsed:    0.3s finished\n"
     ]
    },
    {
     "data": {
      "text/plain": [
       "RandomizedSearchCV(cv=5, estimator=SGDClassifier(), n_iter=5, n_jobs=-1,\n",
       "                   param_distributions={'alpha': [0.0001, 0.001, 0.01, 0.1, 1.0,\n",
       "                                                  10.0, 100.0, 1000.0],\n",
       "                                        'loss': ['hinge', 'log',\n",
       "                                                 'modified_huber',\n",
       "                                                 'squared_hinge',\n",
       "                                                 'perceptron'],\n",
       "                                        'penalty': ['l1', 'l2'],\n",
       "                                        'random_state': array([ 0,  1,  2,  3,  4,  5,  6,  7,  8,  9, 10, 11, 12, 13, 14, 15, 16,\n",
       "       17, 18, 19, 20, 21, 22, 23, 24, 25, 26, 27, 28, 29, 30, 31, 32, 33,\n",
       "       34, 35, 36, 37, 38, 39, 40, 41, 42, 43, 44, 45, 46, 47, 48, 49, 50,\n",
       "       51, 52, 53, 54, 55, 56, 57, 58, 59, 60, 61, 62, 63, 64, 65, 66, 67,\n",
       "       68, 69, 70, 71, 72, 73, 74, 75, 76, 77, 78, 79, 80, 81, 82, 83, 84,\n",
       "       85, 86, 87, 88, 89, 90, 91, 92, 93, 94, 95, 96, 97, 98, 99])},\n",
       "                   scoring='roc_auc', verbose=3)"
      ]
     },
     "execution_count": 89,
     "metadata": {},
     "output_type": "execute_result"
    }
   ],
   "source": [
    "random_search.fit(X_resampled,Y_resampled)"
   ]
  },
  {
   "cell_type": "code",
   "execution_count": 90,
   "metadata": {},
   "outputs": [
    {
     "data": {
      "text/plain": [
       "SGDClassifier(alpha=100.0, loss='perceptron', random_state=78)"
      ]
     },
     "execution_count": 90,
     "metadata": {},
     "output_type": "execute_result"
    }
   ],
   "source": [
    "random_search.best_estimator_"
   ]
  },
  {
   "cell_type": "code",
   "execution_count": 91,
   "metadata": {},
   "outputs": [],
   "source": [
    "#Sochastic Gadient descent\n",
    "from sklearn.linear_model import SGDClassifier\n",
    "#create a model\n",
    "classifier_SGD=SGDClassifier(loss='modified_huber', penalty='l1', random_state=69 )\n",
    "classifier_SGD.fit(X_resampled,Y_resampled)\n",
    "\n",
    "Y_pred=classifier_SGD.predict(X_test)\n",
    "#print(list(zip(Y_test,Y_pred)))"
   ]
  },
  {
   "cell_type": "code",
   "execution_count": 92,
   "metadata": {},
   "outputs": [
    {
     "name": "stdout",
     "output_type": "stream",
     "text": [
      "[[24  0]\n",
      " [10 74]]\n",
      "Classification Report: \n",
      "              precision    recall  f1-score   support\n",
      "\n",
      "           0       0.71      1.00      0.83        24\n",
      "           1       1.00      0.88      0.94        84\n",
      "\n",
      "    accuracy                           0.91       108\n",
      "   macro avg       0.85      0.94      0.88       108\n",
      "weighted avg       0.93      0.91      0.91       108\n",
      "\n",
      "Accuracy of the model: 0.9074074074074074\n"
     ]
    }
   ],
   "source": [
    "from sklearn.metrics import confusion_matrix,accuracy_score,classification_report\n",
    "\n",
    "cfm=confusion_matrix(Y_test,Y_pred)\n",
    "print(cfm)\n",
    "\n",
    "print(\"Classification Report: \")\n",
    "print(classification_report(Y_test,Y_pred))\n",
    "\n",
    "acc=accuracy_score(Y_test,Y_pred)\n",
    "print(\"Accuracy of the model:\",acc)"
   ]
  },
  {
   "cell_type": "code",
   "execution_count": null,
   "metadata": {},
   "outputs": [],
   "source": []
  },
  {
   "cell_type": "code",
   "execution_count": 93,
   "metadata": {},
   "outputs": [],
   "source": [
    "#ADABoost\n",
    "from sklearn.ensemble import AdaBoostClassifier\n",
    "classifier_Adaboost=AdaBoostClassifier()"
   ]
  },
  {
   "cell_type": "code",
   "execution_count": 94,
   "metadata": {},
   "outputs": [],
   "source": [
    "params={ 'learning_rate': [1e-4, 1e-3, 1e-2, 1e-1, 1e0, 1e1, 1e2, 1e3], \n",
    "    \n",
    "    \"random_state\": np.arange(0,100,1)}"
   ]
  },
  {
   "cell_type": "code",
   "execution_count": 95,
   "metadata": {},
   "outputs": [],
   "source": [
    "from sklearn.model_selection import RandomizedSearchCV\n",
    "random_search=RandomizedSearchCV(classifier_Adaboost,param_distributions=params,n_iter=5,scoring=\"roc_auc\",n_jobs=-1,cv=5,verbose=3)"
   ]
  },
  {
   "cell_type": "code",
   "execution_count": 96,
   "metadata": {},
   "outputs": [
    {
     "name": "stdout",
     "output_type": "stream",
     "text": [
      "Fitting 5 folds for each of 5 candidates, totalling 25 fits\n"
     ]
    },
    {
     "name": "stderr",
     "output_type": "stream",
     "text": [
      "[Parallel(n_jobs=-1)]: Using backend LokyBackend with 4 concurrent workers.\n",
      "[Parallel(n_jobs=-1)]: Done  25 out of  25 | elapsed:    1.9s finished\n"
     ]
    },
    {
     "data": {
      "text/plain": [
       "RandomizedSearchCV(cv=5, estimator=AdaBoostClassifier(), n_iter=5, n_jobs=-1,\n",
       "                   param_distributions={'learning_rate': [0.0001, 0.001, 0.01,\n",
       "                                                          0.1, 1.0, 10.0, 100.0,\n",
       "                                                          1000.0],\n",
       "                                        'random_state': array([ 0,  1,  2,  3,  4,  5,  6,  7,  8,  9, 10, 11, 12, 13, 14, 15, 16,\n",
       "       17, 18, 19, 20, 21, 22, 23, 24, 25, 26, 27, 28, 29, 30, 31, 32, 33,\n",
       "       34, 35, 36, 37, 38, 39, 40, 41, 42, 43, 44, 45, 46, 47, 48, 49, 50,\n",
       "       51, 52, 53, 54, 55, 56, 57, 58, 59, 60, 61, 62, 63, 64, 65, 66, 67,\n",
       "       68, 69, 70, 71, 72, 73, 74, 75, 76, 77, 78, 79, 80, 81, 82, 83, 84,\n",
       "       85, 86, 87, 88, 89, 90, 91, 92, 93, 94, 95, 96, 97, 98, 99])},\n",
       "                   scoring='roc_auc', verbose=3)"
      ]
     },
     "execution_count": 96,
     "metadata": {},
     "output_type": "execute_result"
    }
   ],
   "source": [
    "random_search.fit(X_resampled,Y_resampled)"
   ]
  },
  {
   "cell_type": "code",
   "execution_count": 97,
   "metadata": {},
   "outputs": [
    {
     "data": {
      "text/plain": [
       "AdaBoostClassifier(random_state=47)"
      ]
     },
     "execution_count": 97,
     "metadata": {},
     "output_type": "execute_result"
    }
   ],
   "source": [
    "random_search.best_estimator_"
   ]
  },
  {
   "cell_type": "code",
   "execution_count": 98,
   "metadata": {},
   "outputs": [],
   "source": [
    "from sklearn.ensemble import AdaBoostClassifier\n",
    "classifier_Adaboost=AdaBoostClassifier(learning_rate=0.1, random_state=3)\n",
    "classifier_Adaboost.fit(X_resampled,Y_resampled)\n",
    "Y_pred=classifier_Adaboost.predict(X_test)"
   ]
  },
  {
   "cell_type": "code",
   "execution_count": 99,
   "metadata": {},
   "outputs": [
    {
     "name": "stdout",
     "output_type": "stream",
     "text": [
      "[[22  2]\n",
      " [ 7 77]]\n",
      "Classification Report: \n",
      "              precision    recall  f1-score   support\n",
      "\n",
      "           0       0.76      0.92      0.83        24\n",
      "           1       0.97      0.92      0.94        84\n",
      "\n",
      "    accuracy                           0.92       108\n",
      "   macro avg       0.87      0.92      0.89       108\n",
      "weighted avg       0.93      0.92      0.92       108\n",
      "\n",
      "Accuracy of the model: 0.9166666666666666\n"
     ]
    }
   ],
   "source": [
    "from sklearn.metrics import confusion_matrix,accuracy_score,classification_report\n",
    "\n",
    "cfm=confusion_matrix(Y_test,Y_pred)\n",
    "print(cfm)\n",
    "\n",
    "print(\"Classification Report: \")\n",
    "print(classification_report(Y_test,Y_pred))\n",
    "\n",
    "acc=accuracy_score(Y_test,Y_pred)\n",
    "print(\"Accuracy of the model:\",acc)"
   ]
  },
  {
   "cell_type": "code",
   "execution_count": null,
   "metadata": {},
   "outputs": [],
   "source": []
  },
  {
   "cell_type": "code",
   "execution_count": 100,
   "metadata": {},
   "outputs": [
    {
     "data": {
      "application/javascript": [
       "\n",
       "        if (window._pyforest_update_imports_cell) { window._pyforest_update_imports_cell('import keras'); }\n",
       "    "
      ],
      "text/plain": [
       "<IPython.core.display.Javascript object>"
      ]
     },
     "metadata": {},
     "output_type": "display_data"
    },
    {
     "data": {
      "application/javascript": [
       "\n",
       "        if (window._pyforest_update_imports_cell) { window._pyforest_update_imports_cell('import keras'); }\n",
       "    "
      ],
      "text/plain": [
       "<IPython.core.display.Javascript object>"
      ]
     },
     "metadata": {},
     "output_type": "display_data"
    },
    {
     "data": {
      "application/javascript": [
       "\n",
       "        if (window._pyforest_update_imports_cell) { window._pyforest_update_imports_cell('import keras'); }\n",
       "    "
      ],
      "text/plain": [
       "<IPython.core.display.Javascript object>"
      ]
     },
     "metadata": {},
     "output_type": "display_data"
    },
    {
     "data": {
      "application/javascript": [
       "\n",
       "        if (window._pyforest_update_imports_cell) { window._pyforest_update_imports_cell('import keras'); }\n",
       "    "
      ],
      "text/plain": [
       "<IPython.core.display.Javascript object>"
      ]
     },
     "metadata": {},
     "output_type": "display_data"
    },
    {
     "data": {
      "application/javascript": [
       "\n",
       "        if (window._pyforest_update_imports_cell) { window._pyforest_update_imports_cell('import keras'); }\n",
       "    "
      ],
      "text/plain": [
       "<IPython.core.display.Javascript object>"
      ]
     },
     "metadata": {},
     "output_type": "display_data"
    },
    {
     "data": {
      "application/javascript": [
       "\n",
       "        if (window._pyforest_update_imports_cell) { window._pyforest_update_imports_cell('import keras'); }\n",
       "    "
      ],
      "text/plain": [
       "<IPython.core.display.Javascript object>"
      ]
     },
     "metadata": {},
     "output_type": "display_data"
    },
    {
     "data": {
      "application/javascript": [
       "\n",
       "        if (window._pyforest_update_imports_cell) { window._pyforest_update_imports_cell('import keras'); }\n",
       "    "
      ],
      "text/plain": [
       "<IPython.core.display.Javascript object>"
      ]
     },
     "metadata": {},
     "output_type": "display_data"
    },
    {
     "name": "stdout",
     "output_type": "stream",
     "text": [
      "Epoch 1/50\n",
      "284/284 [==============================] - 2s 2ms/step - loss: 2.7612 - accuracy: 0.7241\n",
      "Epoch 2/50\n",
      "284/284 [==============================] - 1s 2ms/step - loss: 0.5382 - accuracy: 0.8348\n",
      "Epoch 3/50\n",
      "284/284 [==============================] - 1s 2ms/step - loss: 0.3080 - accuracy: 0.8999\n",
      "Epoch 4/50\n",
      "284/284 [==============================] - 1s 2ms/step - loss: 0.3932 - accuracy: 0.8394\n",
      "Epoch 5/50\n",
      "284/284 [==============================] - 1s 2ms/step - loss: 0.6855 - accuracy: 0.8414\n",
      "Epoch 6/50\n",
      "284/284 [==============================] - 1s 2ms/step - loss: 0.2964 - accuracy: 0.8891\n",
      "Epoch 7/50\n",
      "284/284 [==============================] - 1s 2ms/step - loss: 0.3541 - accuracy: 0.8853\n",
      "Epoch 8/50\n",
      "284/284 [==============================] - 1s 2ms/step - loss: 0.3702 - accuracy: 0.8522\n",
      "Epoch 9/50\n",
      "284/284 [==============================] - 1s 2ms/step - loss: 0.3462 - accuracy: 0.8555\n",
      "Epoch 10/50\n",
      "284/284 [==============================] - 1s 2ms/step - loss: 0.2833 - accuracy: 0.8821\n",
      "Epoch 11/50\n",
      "284/284 [==============================] - 1s 2ms/step - loss: 0.2501 - accuracy: 0.8903\n",
      "Epoch 12/50\n",
      "284/284 [==============================] - 1s 2ms/step - loss: 0.2429 - accuracy: 0.8858\n",
      "Epoch 13/50\n",
      "284/284 [==============================] - 1s 2ms/step - loss: 0.2566 - accuracy: 0.9009\n",
      "Epoch 14/50\n",
      "284/284 [==============================] - 1s 2ms/step - loss: 0.2369 - accuracy: 0.9198\n",
      "Epoch 15/50\n",
      "284/284 [==============================] - 1s 2ms/step - loss: 0.2435 - accuracy: 0.9222\n",
      "Epoch 16/50\n",
      "284/284 [==============================] - 1s 2ms/step - loss: 0.2391 - accuracy: 0.9047: 0s - loss: 0.247\n",
      "Epoch 17/50\n",
      "284/284 [==============================] - 1s 2ms/step - loss: 0.1933 - accuracy: 0.9346\n",
      "Epoch 18/50\n",
      "284/284 [==============================] - 1s 2ms/step - loss: 0.1893 - accuracy: 0.9358\n",
      "Epoch 19/50\n",
      "284/284 [==============================] - 1s 2ms/step - loss: 0.2246 - accuracy: 0.9068\n",
      "Epoch 20/50\n",
      "284/284 [==============================] - 1s 2ms/step - loss: 0.3137 - accuracy: 0.8961\n",
      "Epoch 21/50\n",
      "284/284 [==============================] - 1s 2ms/step - loss: 0.2209 - accuracy: 0.9029\n",
      "Epoch 22/50\n",
      "284/284 [==============================] - 1s 2ms/step - loss: 0.2110 - accuracy: 0.9149\n",
      "Epoch 23/50\n",
      "284/284 [==============================] - 1s 2ms/step - loss: 0.2154 - accuracy: 0.9416\n",
      "Epoch 24/50\n",
      "284/284 [==============================] - 1s 2ms/step - loss: 0.2154 - accuracy: 0.9254\n",
      "Epoch 25/50\n",
      "284/284 [==============================] - 1s 2ms/step - loss: 0.2441 - accuracy: 0.9069\n",
      "Epoch 26/50\n",
      "284/284 [==============================] - 1s 2ms/step - loss: 0.2194 - accuracy: 0.9296\n",
      "Epoch 27/50\n",
      "284/284 [==============================] - 1s 2ms/step - loss: 0.1551 - accuracy: 0.9565\n",
      "Epoch 28/50\n",
      "284/284 [==============================] - 1s 2ms/step - loss: 0.1795 - accuracy: 0.9321\n",
      "Epoch 29/50\n",
      "284/284 [==============================] - 1s 2ms/step - loss: 0.1814 - accuracy: 0.9390\n",
      "Epoch 30/50\n",
      "284/284 [==============================] - 1s 2ms/step - loss: 0.2343 - accuracy: 0.8891\n",
      "Epoch 31/50\n",
      "284/284 [==============================] - 1s 2ms/step - loss: 0.1785 - accuracy: 0.9194\n",
      "Epoch 32/50\n",
      "284/284 [==============================] - 1s 2ms/step - loss: 0.1157 - accuracy: 0.9590\n",
      "Epoch 33/50\n",
      "284/284 [==============================] - 1s 2ms/step - loss: 0.1888 - accuracy: 0.9188\n",
      "Epoch 34/50\n",
      "284/284 [==============================] - 1s 2ms/step - loss: 0.3050 - accuracy: 0.8942\n",
      "Epoch 35/50\n",
      "284/284 [==============================] - 1s 2ms/step - loss: 0.1510 - accuracy: 0.9419\n",
      "Epoch 36/50\n",
      "284/284 [==============================] - 1s 2ms/step - loss: 0.2251 - accuracy: 0.9196\n",
      "Epoch 37/50\n",
      "284/284 [==============================] - 1s 2ms/step - loss: 0.2120 - accuracy: 0.9007\n",
      "Epoch 38/50\n",
      "284/284 [==============================] - 1s 2ms/step - loss: 0.1698 - accuracy: 0.9284\n",
      "Epoch 39/50\n",
      "284/284 [==============================] - 1s 2ms/step - loss: 0.1549 - accuracy: 0.9516\n",
      "Epoch 40/50\n",
      "284/284 [==============================] - 1s 2ms/step - loss: 0.1811 - accuracy: 0.9251\n",
      "Epoch 41/50\n",
      "284/284 [==============================] - 1s 2ms/step - loss: 0.1432 - accuracy: 0.9456\n",
      "Epoch 42/50\n",
      "284/284 [==============================] - 1s 2ms/step - loss: 0.1826 - accuracy: 0.9087\n",
      "Epoch 43/50\n",
      "284/284 [==============================] - 1s 2ms/step - loss: 0.2166 - accuracy: 0.9207\n",
      "Epoch 44/50\n",
      "284/284 [==============================] - 1s 2ms/step - loss: 0.1552 - accuracy: 0.9586\n",
      "Epoch 45/50\n",
      "284/284 [==============================] - 1s 2ms/step - loss: 0.1924 - accuracy: 0.9221\n",
      "Epoch 46/50\n",
      "284/284 [==============================] - ETA: 0s - loss: 0.1735 - accuracy: 0.92 - 1s 2ms/step - loss: 0.1732 - accuracy: 0.9206\n",
      "Epoch 47/50\n",
      "284/284 [==============================] - 1s 2ms/step - loss: 0.1422 - accuracy: 0.9497\n",
      "Epoch 48/50\n",
      "284/284 [==============================] - 1s 2ms/step - loss: 0.1365 - accuracy: 0.9490\n",
      "Epoch 49/50\n",
      "284/284 [==============================] - 1s 2ms/step - loss: 0.1196 - accuracy: 0.9524\n",
      "Epoch 50/50\n",
      "284/284 [==============================] - 1s 2ms/step - loss: 0.1043 - accuracy: 0.9761\n",
      "4/4 [==============================] - 0s 7ms/step - loss: 1.8620 - accuracy: 0.8056\n",
      "Test accuracy: 0.8055555820465088\n"
     ]
    }
   ],
   "source": [
    "import tensorflow as tf\n",
    "from tensorflow.keras.layers import Input, Dense, Activation,Dropout\n",
    "from tensorflow.keras.models import Model\n",
    "from keras.models import Sequential\n",
    "from keras.layers import Dense\n",
    "from keras.wrappers.scikit_learn import KerasClassifier\n",
    "from sklearn.model_selection import cross_val_score\n",
    "from sklearn.preprocessing import LabelEncoder\n",
    "from sklearn.model_selection import StratifiedKFold\n",
    "\n",
    "\n",
    "model = keras.Sequential([\n",
    "    keras.layers.Flatten(input_shape=(X_resampled.shape[1],)),\n",
    "    keras.layers.Dense(16, activation=tf.nn.relu),\n",
    "    keras.layers.Dense(32, activation=tf.nn.relu),\n",
    "    keras.layers.Dense(64, activation=tf.nn.relu),\n",
    "    keras.layers.Dense(128, activation=tf.nn.relu),\n",
    "\n",
    "    keras.layers.Dense(1, activation=tf.nn.sigmoid),\n",
    "])\n",
    "\n",
    "model.compile(optimizer='adam',\n",
    "              loss='binary_crossentropy',\n",
    "              metrics=[ 'accuracy'])\n",
    "\n",
    "model.fit(X_resampled, Y_resampled,epochs=50,batch_size=1)\n",
    "\n",
    "test_loss, test_acc = model.evaluate(X_test, Y_test)\n",
    "print('Test accuracy:', test_acc)"
   ]
  },
  {
   "cell_type": "code",
   "execution_count": 116,
   "metadata": {},
   "outputs": [],
   "source": [
    "import pickle\n",
    "pickle_out=open(\"C:\\Machine Learnig\\Projects\\Ovary Cancer\\ovary_cancer.pickle\",\"wb\")\n",
    "pickle.dump(classifier_SVC,pickle_out)"
   ]
  },
  {
   "cell_type": "code",
   "execution_count": 117,
   "metadata": {},
   "outputs": [
    {
     "data": {
      "text/plain": [
       "array([0, 1, 0, 1, 0, 0, 1, 0, 0, 0, 0, 0, 0, 0, 0, 1, 0, 0, 0, 0, 1, 0,\n",
       "       0, 0, 1, 1, 0, 1, 1, 1, 1, 1, 1, 1, 1, 1, 1, 1, 1, 1, 1, 1, 1, 1,\n",
       "       1, 1, 1, 1, 1, 1, 1, 1, 1, 1, 1, 1, 1, 1, 1, 1, 1, 1, 1, 1, 1, 1,\n",
       "       0, 1, 1, 1, 1, 1, 1, 1, 1, 1, 1, 1, 1, 1, 1, 1, 1, 1, 1, 1, 1, 1,\n",
       "       1, 1, 1, 1, 1, 1, 1, 1, 1, 1, 1, 1, 1, 1, 1, 1, 1, 1, 1, 1],\n",
       "      dtype=int64)"
      ]
     },
     "execution_count": 117,
     "metadata": {},
     "output_type": "execute_result"
    }
   ],
   "source": [
    "loaded_model = pickle.load(open(\"C:\\Machine Learnig\\Projects\\Ovary Cancer\\ovary_cancer.pickle\",\"rb\"))\n",
    "Y_pred=loaded_model.predict(X_test)\n",
    "Y_pred"
   ]
  },
  {
   "cell_type": "code",
   "execution_count": 118,
   "metadata": {},
   "outputs": [
    {
     "name": "stdout",
     "output_type": "stream",
     "text": [
      "[[19  5]\n",
      " [ 2 82]]\n",
      "Classification Report: \n",
      "              precision    recall  f1-score   support\n",
      "\n",
      "           0       0.90      0.79      0.84        24\n",
      "           1       0.94      0.98      0.96        84\n",
      "\n",
      "    accuracy                           0.94       108\n",
      "   macro avg       0.92      0.88      0.90       108\n",
      "weighted avg       0.93      0.94      0.93       108\n",
      "\n",
      "Accuracy of the model: 0.9351851851851852\n"
     ]
    }
   ],
   "source": [
    "from sklearn.metrics import confusion_matrix,accuracy_score,classification_report\n",
    "\n",
    "cfm=confusion_matrix(Y_test,Y_pred)\n",
    "print(cfm)\n",
    "\n",
    "print(\"Classification Report: \")\n",
    "print(classification_report(Y_test,Y_pred))\n",
    "\n",
    "acc=accuracy_score(Y_test,Y_pred)\n",
    "print(\"Accuracy of the model:\",acc)"
   ]
  },
  {
   "cell_type": "code",
   "execution_count": null,
   "metadata": {},
   "outputs": [],
   "source": []
  },
  {
   "cell_type": "code",
   "execution_count": null,
   "metadata": {},
   "outputs": [],
   "source": []
  },
  {
   "cell_type": "code",
   "execution_count": null,
   "metadata": {},
   "outputs": [],
   "source": []
  },
  {
   "cell_type": "code",
   "execution_count": null,
   "metadata": {},
   "outputs": [],
   "source": [
    "\n"
   ]
  },
  {
   "cell_type": "code",
   "execution_count": null,
   "metadata": {},
   "outputs": [],
   "source": []
  }
 ],
 "metadata": {
  "kernelspec": {
   "display_name": "Python 3 (ipykernel)",
   "language": "python",
   "name": "python3"
  },
  "language_info": {
   "codemirror_mode": {
    "name": "ipython",
    "version": 3
   },
   "file_extension": ".py",
   "mimetype": "text/x-python",
   "name": "python",
   "nbconvert_exporter": "python",
   "pygments_lexer": "ipython3",
   "version": "3.9.13"
  }
 },
 "nbformat": 4,
 "nbformat_minor": 4
}
